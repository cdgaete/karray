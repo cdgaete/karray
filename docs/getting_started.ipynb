{
 "cells": [
  {
   "cell_type": "markdown",
   "metadata": {},
   "source": [
    "# Getting started\n",
    "\n",
    "## Quick installation\n",
    "\n",
    "To install karray, you can use pip:\n",
    "\n",
    "```bash\n",
    "pip install karray\n",
    "```\n",
    "\n",
    "## Importing karray\n",
    "\n",
    "To start using karray, import the necessary classes and functions:\n"
   ]
  },
  {
   "cell_type": "code",
   "execution_count": 1,
   "metadata": {},
   "outputs": [],
   "source": [
    "import karray as ka\n",
    "\n",
    "# then you can use ka.Array, ka.Long, and ka.settings"
   ]
  },
  {
   "cell_type": "markdown",
   "metadata": {},
   "source": [
    "The `Array` class represents a labeled multidimensional array, while the `Long` class represents a labeled one-dimensional array. The `settings` object allows you to configure various options for karray.\n"
   ]
  },
  {
   "cell_type": "markdown",
   "metadata": {},
   "source": [
    "## Usage Examples\n",
    "\n",
    "### Creating an Array\n",
    "\n",
    "You can create an `Array` object in several ways:\n",
    "\n",
    "1. From a `Long` object and coordinates:\n"
   ]
  },
  {
   "cell_type": "code",
   "execution_count": 2,
   "metadata": {},
   "outputs": [
    {
     "data": {
      "text/html": [
       "<style>\n",
       "\n",
       ".details {\n",
       "    user-select: none;\n",
       "}\n",
       "\n",
       ".details > summary {\n",
       "    display: flex;\n",
       "    cursor: pointer;\n",
       "    position: relative;\n",
       "}\n",
       "\n",
       ".details > summary .span.icon {\n",
       "    width: 24px;\n",
       "    height: 24px;\n",
       "    transition: all 0.3s;\n",
       "    margin-left: auto;\n",
       "}\n",
       "\n",
       ".details[open] > summary.summary ::-webkit-details-marker {\n",
       "    display: none;\n",
       "}\n",
       "\n",
       ".details[open] > summary .span.icon {\n",
       "    transform: rotate(180deg);\n",
       "}\n",
       "\n",
       "/* Tooltip styles */\n",
       ".tooltip {\n",
       "    position: relative;\n",
       "    display: inline-block;\n",
       "    border-bottom: 1px dotted black;\n",
       "}\n",
       "\n",
       ".tooltip .tooltiptext {\n",
       "    visibility: hidden;\n",
       "    width: 165px;\n",
       "    background-color: black;\n",
       "    color: #fff;\n",
       "    text-align: center;\n",
       "    border-radius: 4px;\n",
       "    padding: 2px 0;\n",
       "    position: absolute;\n",
       "    z-index: 1;\n",
       "    font-size: 11px;\n",
       "}\n",
       "\n",
       ".tooltip:hover .tooltiptext {\n",
       "    visibility: visible;\n",
       "}\n",
       "\n",
       ".tooltip .tooltiptext::after {\n",
       "    content: \"\";\n",
       "    position: absolute;\n",
       "    top: 100%;\n",
       "    left: 50%;\n",
       "    margin-left: -8px;\n",
       "    border-width: 8px;\n",
       "    border-style: solid;\n",
       "    border-color: #fff transparent transparent transparent;\n",
       "}\n",
       "\n",
       ".tooltip-top {\n",
       "    bottom: 90%;\n",
       "    margin-left: -40px;\n",
       "}\n",
       "</style><h3>[k]array</h3><table><tr><th>Long object size</th><td>64 bytes</td></tr><tr><th>Data object type</th><td>dense</td></tr><tr><th>Data object size</th><td>64 bytes</td></tr><tr><th>Dimensions</th><td>['dim1', 'dim2', 'dim3']</td></tr><tr><th>Shape</th><td>[2, 2, 2]</td></tr><tr><th>Capacity</th><td>8</td></tr><tr><th>Rows</th><td>2</td></tr></table><details><table><summary><div class=\"tooltip\"> Show unique coords</div></summary><tr><th>Dimension<th>Length<th>Type<th>Items<tr><th><b>dim1</b><td>2<td>object<td><details><summary><div class=\"tooltip\">show details</div></summary>[&#x27;a&#x27; &#x27;b&#x27;]</details><tr><th><b>dim2</b><td>2<td>int64<td><details><summary><div class=\"tooltip\">show details</div></summary>[1 2]</details><tr><th><b>dim3</b><td>2<td>datetime64[ns]<td><details><summary><div class=\"tooltip\">show details</div></summary>[&#x27;2020-01-01T00:00:00.000000000&#x27; &#x27;2020-01-02T00:00:00.000000000&#x27;]</details></table></details><details><table><summary><div class=\"tooltip\"> Show data <small>[default: 16 rows, 2 decimals]</small><!-- <span class=\"tooltiptext tooltip-top\">To change default values:<br> obj.rows_display = Int val<br>obj.decimals_display = Int val<br>obj.oneshot_display = False --></span></div></summary><tr><th><th>dim1<th>dim2<th>dim3<th>value<tr><th><b>0</b><td>a<td>1<td>2020-01-01T00:00:00.000000000<td>10.00<tr><th><b>1</b><td>b<td>2<td>2020-01-02T00:00:00.000000000<td>20.00</table></details>"
      ],
      "text/plain": [
       "Array(data=array([[[10.,  0.],\n",
       "        [ 0.,  0.]],\n",
       "\n",
       "       [[ 0.,  0.],\n",
       "        [ 0., 20.]]]), coords={'dim1': array(['a', 'b'], dtype=object), 'dim2': array([1, 2]), 'dim3': array(['2020-01-01T00:00:00.000000000', '2020-01-02T00:00:00.000000000'],\n",
       "      dtype='datetime64[ns]')})"
      ]
     },
     "execution_count": 2,
     "metadata": {},
     "output_type": "execute_result"
    }
   ],
   "source": [
    "import pandas as pd\n",
    "\n",
    "index = {'dim1': ['a', 'b'],\n",
    "         'dim2': [1, 2],\n",
    "         'dim3': pd.to_datetime(['2020-01-01', '2020-01-02'], utc=True)}\n",
    "value = [10., 20.]\n",
    "long = ka.Long(index=index, value=value)\n",
    "\n",
    "arr1 = ka.Array(data=long)\n",
    "arr1"
   ]
  },
  {
   "cell_type": "markdown",
   "metadata": {},
   "source": [
    "2. From a tuple of index and value, and coordinates:\n"
   ]
  },
  {
   "cell_type": "code",
   "execution_count": 3,
   "metadata": {},
   "outputs": [
    {
     "data": {
      "text/html": [
       "<style>\n",
       "\n",
       ".details {\n",
       "    user-select: none;\n",
       "}\n",
       "\n",
       ".details > summary {\n",
       "    display: flex;\n",
       "    cursor: pointer;\n",
       "    position: relative;\n",
       "}\n",
       "\n",
       ".details > summary .span.icon {\n",
       "    width: 24px;\n",
       "    height: 24px;\n",
       "    transition: all 0.3s;\n",
       "    margin-left: auto;\n",
       "}\n",
       "\n",
       ".details[open] > summary.summary ::-webkit-details-marker {\n",
       "    display: none;\n",
       "}\n",
       "\n",
       ".details[open] > summary .span.icon {\n",
       "    transform: rotate(180deg);\n",
       "}\n",
       "\n",
       "/* Tooltip styles */\n",
       ".tooltip {\n",
       "    position: relative;\n",
       "    display: inline-block;\n",
       "    border-bottom: 1px dotted black;\n",
       "}\n",
       "\n",
       ".tooltip .tooltiptext {\n",
       "    visibility: hidden;\n",
       "    width: 165px;\n",
       "    background-color: black;\n",
       "    color: #fff;\n",
       "    text-align: center;\n",
       "    border-radius: 4px;\n",
       "    padding: 2px 0;\n",
       "    position: absolute;\n",
       "    z-index: 1;\n",
       "    font-size: 11px;\n",
       "}\n",
       "\n",
       ".tooltip:hover .tooltiptext {\n",
       "    visibility: visible;\n",
       "}\n",
       "\n",
       ".tooltip .tooltiptext::after {\n",
       "    content: \"\";\n",
       "    position: absolute;\n",
       "    top: 100%;\n",
       "    left: 50%;\n",
       "    margin-left: -8px;\n",
       "    border-width: 8px;\n",
       "    border-style: solid;\n",
       "    border-color: #fff transparent transparent transparent;\n",
       "}\n",
       "\n",
       ".tooltip-top {\n",
       "    bottom: 90%;\n",
       "    margin-left: -40px;\n",
       "}\n",
       "</style><h3>[k]array</h3><table><tr><th>Long object size</th><td>48 bytes</td></tr><tr><th>Data object type</th><td>dense</td></tr><tr><th>Data object size</th><td>32 bytes</td></tr><tr><th>Dimensions</th><td>['dim1', 'dim2']</td></tr><tr><th>Shape</th><td>[2, 2]</td></tr><tr><th>Capacity</th><td>4</td></tr><tr><th>Rows</th><td>2</td></tr></table><details><table><summary><div class=\"tooltip\"> Show unique coords</div></summary><tr><th>Dimension<th>Length<th>Type<th>Items<tr><th><b>dim1</b><td>2<td>object<td><details><summary><div class=\"tooltip\">show details</div></summary>[&#x27;a&#x27; &#x27;b&#x27;]</details><tr><th><b>dim2</b><td>2<td>int64<td><details><summary><div class=\"tooltip\">show details</div></summary>[1 2]</details></table></details><details><table><summary><div class=\"tooltip\"> Show data <small>[default: 16 rows, 2 decimals]</small><!-- <span class=\"tooltiptext tooltip-top\">To change default values:<br> obj.rows_display = Int val<br>obj.decimals_display = Int val<br>obj.oneshot_display = False --></span></div></summary><tr><th><th>dim1<th>dim2<th>value<tr><th><b>0</b><td>a<td>1<td>10<tr><th><b>1</b><td>b<td>2<td>20</table></details>"
      ],
      "text/plain": [
       "Array(data=array([[10,  0],\n",
       "       [ 0, 20]]), coords={'dim1': array(['a', 'b'], dtype=object), 'dim2': array([1, 2])})"
      ]
     },
     "execution_count": 3,
     "metadata": {},
     "output_type": "execute_result"
    }
   ],
   "source": [
    "index2 = {'dim1': ['a', 'b'], 'dim2': [1, 2]}\n",
    "value2 = [10, 20]\n",
    "coords2 = {'dim1': ['a', 'b'], 'dim2': [1, 2]}\n",
    "\n",
    "arr2 = ka.Array(data=(index2, value2), coords=coords2)\n",
    "arr2"
   ]
  },
  {
   "cell_type": "markdown",
   "metadata": {},
   "source": [
    "3. From a dense NumPy array and coordinates:\n"
   ]
  },
  {
   "cell_type": "code",
   "execution_count": 4,
   "metadata": {},
   "outputs": [
    {
     "data": {
      "text/html": [
       "<style>\n",
       "\n",
       ".details {\n",
       "    user-select: none;\n",
       "}\n",
       "\n",
       ".details > summary {\n",
       "    display: flex;\n",
       "    cursor: pointer;\n",
       "    position: relative;\n",
       "}\n",
       "\n",
       ".details > summary .span.icon {\n",
       "    width: 24px;\n",
       "    height: 24px;\n",
       "    transition: all 0.3s;\n",
       "    margin-left: auto;\n",
       "}\n",
       "\n",
       ".details[open] > summary.summary ::-webkit-details-marker {\n",
       "    display: none;\n",
       "}\n",
       "\n",
       ".details[open] > summary .span.icon {\n",
       "    transform: rotate(180deg);\n",
       "}\n",
       "\n",
       "/* Tooltip styles */\n",
       ".tooltip {\n",
       "    position: relative;\n",
       "    display: inline-block;\n",
       "    border-bottom: 1px dotted black;\n",
       "}\n",
       "\n",
       ".tooltip .tooltiptext {\n",
       "    visibility: hidden;\n",
       "    width: 165px;\n",
       "    background-color: black;\n",
       "    color: #fff;\n",
       "    text-align: center;\n",
       "    border-radius: 4px;\n",
       "    padding: 2px 0;\n",
       "    position: absolute;\n",
       "    z-index: 1;\n",
       "    font-size: 11px;\n",
       "}\n",
       "\n",
       ".tooltip:hover .tooltiptext {\n",
       "    visibility: visible;\n",
       "}\n",
       "\n",
       ".tooltip .tooltiptext::after {\n",
       "    content: \"\";\n",
       "    position: absolute;\n",
       "    top: 100%;\n",
       "    left: 50%;\n",
       "    margin-left: -8px;\n",
       "    border-width: 8px;\n",
       "    border-style: solid;\n",
       "    border-color: #fff transparent transparent transparent;\n",
       "}\n",
       "\n",
       ".tooltip-top {\n",
       "    bottom: 90%;\n",
       "    margin-left: -40px;\n",
       "}\n",
       "</style><h3>[k]array</h3><table><tr><th>Long object size</th><td>96 bytes</td></tr><tr><th>Data object type</th><td>dense</td></tr><tr><th>Data object size</th><td>32 bytes</td></tr><tr><th>Dimensions</th><td>['dim1', 'dim2']</td></tr><tr><th>Shape</th><td>[2, 2]</td></tr><tr><th>Capacity</th><td>4</td></tr><tr><th>Rows</th><td>4</td></tr></table><details><table><summary><div class=\"tooltip\"> Show unique coords</div></summary><tr><th>Dimension<th>Length<th>Type<th>Items<tr><th><b>dim1</b><td>2<td>object<td><details><summary><div class=\"tooltip\">show details</div></summary>[&#x27;a&#x27; &#x27;b&#x27;]</details><tr><th><b>dim2</b><td>2<td>int64<td><details><summary><div class=\"tooltip\">show details</div></summary>[1 2]</details></table></details><details><table><summary><div class=\"tooltip\"> Show data <small>[default: 16 rows, 2 decimals]</small><!-- <span class=\"tooltiptext tooltip-top\">To change default values:<br> obj.rows_display = Int val<br>obj.decimals_display = Int val<br>obj.oneshot_display = False --></span></div></summary><tr><th><th>dim1<th>dim2<th>value<tr><th><b>0</b><td>a<td>1<td>10.00<tr><th><b>1</b><td>a<td>2<td>20.00<tr><th><b>2</b><td>b<td>1<td>30.00<tr><th><b>3</b><td>b<td>2<td>40.00</table></details>"
      ],
      "text/plain": [
       "Array(data=array([[10., 20.],\n",
       "       [30., 40.]]), coords={'dim1': array(['a', 'b'], dtype=object), 'dim2': array([1, 2])})"
      ]
     },
     "execution_count": 4,
     "metadata": {},
     "output_type": "execute_result"
    }
   ],
   "source": [
    "import numpy as np\n",
    "dense = np.array([[10, 20], [30, 40]])\n",
    "coords3 = {'dim1': ['a', 'b'], 'dim2': [1, 2]}\n",
    "\n",
    "arr3 = ka.Array(data=dense, coords=coords3)\n",
    "arr3"
   ]
  },
  {
   "cell_type": "markdown",
   "metadata": {},
   "source": [
    "4. From a sparse array (using the `sparse` library) and coordinates:\n"
   ]
  },
  {
   "cell_type": "code",
   "execution_count": 5,
   "metadata": {},
   "outputs": [
    {
     "data": {
      "text/html": [
       "<style>\n",
       "\n",
       ".details {\n",
       "    user-select: none;\n",
       "}\n",
       "\n",
       ".details > summary {\n",
       "    display: flex;\n",
       "    cursor: pointer;\n",
       "    position: relative;\n",
       "}\n",
       "\n",
       ".details > summary .span.icon {\n",
       "    width: 24px;\n",
       "    height: 24px;\n",
       "    transition: all 0.3s;\n",
       "    margin-left: auto;\n",
       "}\n",
       "\n",
       ".details[open] > summary.summary ::-webkit-details-marker {\n",
       "    display: none;\n",
       "}\n",
       "\n",
       ".details[open] > summary .span.icon {\n",
       "    transform: rotate(180deg);\n",
       "}\n",
       "\n",
       "/* Tooltip styles */\n",
       ".tooltip {\n",
       "    position: relative;\n",
       "    display: inline-block;\n",
       "    border-bottom: 1px dotted black;\n",
       "}\n",
       "\n",
       ".tooltip .tooltiptext {\n",
       "    visibility: hidden;\n",
       "    width: 165px;\n",
       "    background-color: black;\n",
       "    color: #fff;\n",
       "    text-align: center;\n",
       "    border-radius: 4px;\n",
       "    padding: 2px 0;\n",
       "    position: absolute;\n",
       "    z-index: 1;\n",
       "    font-size: 11px;\n",
       "}\n",
       "\n",
       ".tooltip:hover .tooltiptext {\n",
       "    visibility: visible;\n",
       "}\n",
       "\n",
       ".tooltip .tooltiptext::after {\n",
       "    content: \"\";\n",
       "    position: absolute;\n",
       "    top: 100%;\n",
       "    left: 50%;\n",
       "    margin-left: -8px;\n",
       "    border-width: 8px;\n",
       "    border-style: solid;\n",
       "    border-color: #fff transparent transparent transparent;\n",
       "}\n",
       "\n",
       ".tooltip-top {\n",
       "    bottom: 90%;\n",
       "    margin-left: -40px;\n",
       "}\n",
       "</style><h3>[k]array</h3><table><tr><th>Long object size</th><td>48 bytes</td></tr><tr><th>Data object type</th><td>dense</td></tr><tr><th>Data object size</th><td>32 bytes</td></tr><tr><th>Dimensions</th><td>['dim1', 'dim2']</td></tr><tr><th>Shape</th><td>[2, 2]</td></tr><tr><th>Capacity</th><td>4</td></tr><tr><th>Rows</th><td>2</td></tr></table><details><table><summary><div class=\"tooltip\"> Show unique coords</div></summary><tr><th>Dimension<th>Length<th>Type<th>Items<tr><th><b>dim1</b><td>2<td>object<td><details><summary><div class=\"tooltip\">show details</div></summary>[&#x27;a&#x27; &#x27;b&#x27;]</details><tr><th><b>dim2</b><td>2<td>int64<td><details><summary><div class=\"tooltip\">show details</div></summary>[1 2]</details></table></details><details><table><summary><div class=\"tooltip\"> Show data <small>[default: 16 rows, 2 decimals]</small><!-- <span class=\"tooltiptext tooltip-top\">To change default values:<br> obj.rows_display = Int val<br>obj.decimals_display = Int val<br>obj.oneshot_display = False --></span></div></summary><tr><th><th>dim1<th>dim2<th>value<tr><th><b>0</b><td>a<td>1<td>10<tr><th><b>1</b><td>b<td>2<td>20</table></details>"
      ],
      "text/plain": [
       "Array(data=array([[10,  0],\n",
       "       [ 0, 20]]), coords={'dim1': array(['a', 'b'], dtype=object), 'dim2': array([1, 2])})"
      ]
     },
     "execution_count": 5,
     "metadata": {},
     "output_type": "execute_result"
    }
   ],
   "source": [
    "import sparse as sp\n",
    "\n",
    "sparse_arr = sp.COO(data=[10, 20], coords=[[0, 1], [0, 1]], shape=(2, 2))\n",
    "coords4 = {'dim1': ['a', 'b'], 'dim2': [1, 2]}\n",
    "\n",
    "arr4 = ka.Array(data=sparse_arr, coords=coords4)\n",
    "arr4"
   ]
  },
  {
   "cell_type": "markdown",
   "metadata": {},
   "source": [
    "### Accessing Array Elements\n",
    "\n",
    "You can access elements of an `Array` object using various methods:\n",
    "\n",
    "1. Using the `items()` method to iterate over the array elements:\n"
   ]
  },
  {
   "cell_type": "code",
   "execution_count": 6,
   "metadata": {},
   "outputs": [
    {
     "name": "stdout",
     "output_type": "stream",
     "text": [
      "('dim1', array(['a', 'a', 'b', 'b'], dtype=object))\n",
      "('dim2', array([1, 2, 1, 2]))\n",
      "('value', array([10., 20., 30., 40.]))\n"
     ]
    }
   ],
   "source": [
    "for item in arr3.items():\n",
    "    print(item)"
   ]
  },
  {
   "cell_type": "markdown",
   "metadata": {},
   "source": [
    "2. Using the `to_pandas()` method to convert the array to a pandas DataFrame:\n"
   ]
  },
  {
   "cell_type": "code",
   "execution_count": 7,
   "metadata": {},
   "outputs": [
    {
     "name": "stdout",
     "output_type": "stream",
     "text": [
      "  dim1  dim2       dim3  value\n",
      "0    a     1 2020-01-01   10.0\n",
      "1    b     2 2020-01-02   20.0\n"
     ]
    }
   ],
   "source": [
    "df = arr1.to_pandas()\n",
    "print(df)"
   ]
  },
  {
   "cell_type": "markdown",
   "metadata": {},
   "source": [
    "3. Using the `to_polars()` method to convert the array to a polars DataFrame:\n"
   ]
  },
  {
   "cell_type": "code",
   "execution_count": 8,
   "metadata": {},
   "outputs": [
    {
     "name": "stdout",
     "output_type": "stream",
     "text": [
      "shape: (2, 4)\n",
      "┌──────┬──────┬─────────────────────┬───────┐\n",
      "│ dim1 ┆ dim2 ┆ dim3                ┆ value │\n",
      "│ ---  ┆ ---  ┆ ---                 ┆ ---   │\n",
      "│ str  ┆ i64  ┆ datetime[ns]        ┆ f64   │\n",
      "╞══════╪══════╪═════════════════════╪═══════╡\n",
      "│ a    ┆ 1    ┆ 2020-01-01 00:00:00 ┆ 10.0  │\n",
      "│ b    ┆ 2    ┆ 2020-01-02 00:00:00 ┆ 20.0  │\n",
      "└──────┴──────┴─────────────────────┴───────┘\n"
     ]
    }
   ],
   "source": [
    "df = arr1.to_polars()\n",
    "print(df)"
   ]
  },
  {
   "cell_type": "markdown",
   "metadata": {},
   "source": [
    "### Array Operations\n",
    "\n",
    "karray provides various operations that can be performed on `Array` objects:\n",
    "\n",
    "1. Arithmetic operations:\n"
   ]
  },
  {
   "cell_type": "code",
   "execution_count": 9,
   "metadata": {},
   "outputs": [
    {
     "data": {
      "text/html": [
       "<style>\n",
       "\n",
       ".details {\n",
       "    user-select: none;\n",
       "}\n",
       "\n",
       ".details > summary {\n",
       "    display: flex;\n",
       "    cursor: pointer;\n",
       "    position: relative;\n",
       "}\n",
       "\n",
       ".details > summary .span.icon {\n",
       "    width: 24px;\n",
       "    height: 24px;\n",
       "    transition: all 0.3s;\n",
       "    margin-left: auto;\n",
       "}\n",
       "\n",
       ".details[open] > summary.summary ::-webkit-details-marker {\n",
       "    display: none;\n",
       "}\n",
       "\n",
       ".details[open] > summary .span.icon {\n",
       "    transform: rotate(180deg);\n",
       "}\n",
       "\n",
       "/* Tooltip styles */\n",
       ".tooltip {\n",
       "    position: relative;\n",
       "    display: inline-block;\n",
       "    border-bottom: 1px dotted black;\n",
       "}\n",
       "\n",
       ".tooltip .tooltiptext {\n",
       "    visibility: hidden;\n",
       "    width: 165px;\n",
       "    background-color: black;\n",
       "    color: #fff;\n",
       "    text-align: center;\n",
       "    border-radius: 4px;\n",
       "    padding: 2px 0;\n",
       "    position: absolute;\n",
       "    z-index: 1;\n",
       "    font-size: 11px;\n",
       "}\n",
       "\n",
       ".tooltip:hover .tooltiptext {\n",
       "    visibility: visible;\n",
       "}\n",
       "\n",
       ".tooltip .tooltiptext::after {\n",
       "    content: \"\";\n",
       "    position: absolute;\n",
       "    top: 100%;\n",
       "    left: 50%;\n",
       "    margin-left: -8px;\n",
       "    border-width: 8px;\n",
       "    border-style: solid;\n",
       "    border-color: #fff transparent transparent transparent;\n",
       "}\n",
       "\n",
       ".tooltip-top {\n",
       "    bottom: 90%;\n",
       "    margin-left: -40px;\n",
       "}\n",
       "</style><h3>[k]array</h3><table><tr><th>Long object size</th><td>128 bytes</td></tr><tr><th>Data object type</th><td>dense</td></tr><tr><th>Data object size</th><td>64 bytes</td></tr><tr><th>Dimensions</th><td>['dim1', 'dim2', 'dim3']</td></tr><tr><th>Shape</th><td>[2, 2, 2]</td></tr><tr><th>Capacity</th><td>8</td></tr><tr><th>Rows</th><td>4</td></tr></table><details><table><summary><div class=\"tooltip\"> Show unique coords</div></summary><tr><th>Dimension<th>Length<th>Type<th>Items<tr><th><b>dim1</b><td>2<td>object<td><details><summary><div class=\"tooltip\">show details</div></summary>[&#x27;a&#x27; &#x27;b&#x27;]</details><tr><th><b>dim2</b><td>2<td>int64<td><details><summary><div class=\"tooltip\">show details</div></summary>[1 2]</details><tr><th><b>dim3</b><td>2<td>datetime64[ns]<td><details><summary><div class=\"tooltip\">show details</div></summary>[&#x27;2020-01-01T00:00:00.000000000&#x27; &#x27;2020-01-02T00:00:00.000000000&#x27;]</details></table></details><details><table><summary><div class=\"tooltip\"> Show data <small>[default: 16 rows, 2 decimals]</small><!-- <span class=\"tooltiptext tooltip-top\">To change default values:<br> obj.rows_display = Int val<br>obj.decimals_display = Int val<br>obj.oneshot_display = False --></span></div></summary><tr><th><th>dim1<th>dim2<th>dim3<th>value<tr><th><b>0</b><td>a<td>1<td>2020-01-01T00:00:00.000000000<td>20.00<tr><th><b>1</b><td>a<td>1<td>2020-01-02T00:00:00.000000000<td>10.00<tr><th><b>2</b><td>b<td>2<td>2020-01-01T00:00:00.000000000<td>20.00<tr><th><b>3</b><td>b<td>2<td>2020-01-02T00:00:00.000000000<td>40.00</table></details>"
      ],
      "text/plain": [
       "Array(data=array([[[20., 10.],\n",
       "        [ 0.,  0.]],\n",
       "\n",
       "       [[ 0.,  0.],\n",
       "        [20., 40.]]]), coords={'dim1': array(['a', 'b'], dtype=object), 'dim2': array([1, 2]), 'dim3': array(['2020-01-01T00:00:00.000000000', '2020-01-02T00:00:00.000000000'],\n",
       "      dtype='datetime64[ns]')})"
      ]
     },
     "execution_count": 9,
     "metadata": {},
     "output_type": "execute_result"
    }
   ],
   "source": [
    "result = arr1 + arr2\n",
    "result"
   ]
  },
  {
   "cell_type": "code",
   "execution_count": 10,
   "metadata": {},
   "outputs": [
    {
     "data": {
      "text/html": [
       "<style>\n",
       "\n",
       ".details {\n",
       "    user-select: none;\n",
       "}\n",
       "\n",
       ".details > summary {\n",
       "    display: flex;\n",
       "    cursor: pointer;\n",
       "    position: relative;\n",
       "}\n",
       "\n",
       ".details > summary .span.icon {\n",
       "    width: 24px;\n",
       "    height: 24px;\n",
       "    transition: all 0.3s;\n",
       "    margin-left: auto;\n",
       "}\n",
       "\n",
       ".details[open] > summary.summary ::-webkit-details-marker {\n",
       "    display: none;\n",
       "}\n",
       "\n",
       ".details[open] > summary .span.icon {\n",
       "    transform: rotate(180deg);\n",
       "}\n",
       "\n",
       "/* Tooltip styles */\n",
       ".tooltip {\n",
       "    position: relative;\n",
       "    display: inline-block;\n",
       "    border-bottom: 1px dotted black;\n",
       "}\n",
       "\n",
       ".tooltip .tooltiptext {\n",
       "    visibility: hidden;\n",
       "    width: 165px;\n",
       "    background-color: black;\n",
       "    color: #fff;\n",
       "    text-align: center;\n",
       "    border-radius: 4px;\n",
       "    padding: 2px 0;\n",
       "    position: absolute;\n",
       "    z-index: 1;\n",
       "    font-size: 11px;\n",
       "}\n",
       "\n",
       ".tooltip:hover .tooltiptext {\n",
       "    visibility: visible;\n",
       "}\n",
       "\n",
       ".tooltip .tooltiptext::after {\n",
       "    content: \"\";\n",
       "    position: absolute;\n",
       "    top: 100%;\n",
       "    left: 50%;\n",
       "    margin-left: -8px;\n",
       "    border-width: 8px;\n",
       "    border-style: solid;\n",
       "    border-color: #fff transparent transparent transparent;\n",
       "}\n",
       "\n",
       ".tooltip-top {\n",
       "    bottom: 90%;\n",
       "    margin-left: -40px;\n",
       "}\n",
       "</style><h3>[k]array</h3><table><tr><th>Long object size</th><td>96 bytes</td></tr><tr><th>Data object type</th><td>dense</td></tr><tr><th>Data object size</th><td>32 bytes</td></tr><tr><th>Dimensions</th><td>['dim1', 'dim2']</td></tr><tr><th>Shape</th><td>[2, 2]</td></tr><tr><th>Capacity</th><td>4</td></tr><tr><th>Rows</th><td>4</td></tr></table><details><table><summary><div class=\"tooltip\"> Show unique coords</div></summary><tr><th>Dimension<th>Length<th>Type<th>Items<tr><th><b>dim1</b><td>2<td>object<td><details><summary><div class=\"tooltip\">show details</div></summary>[&#x27;a&#x27; &#x27;b&#x27;]</details><tr><th><b>dim2</b><td>2<td>int64<td><details><summary><div class=\"tooltip\">show details</div></summary>[1 2]</details></table></details><details><table><summary><div class=\"tooltip\"> Show data <small>[default: 16 rows, 2 decimals]</small><!-- <span class=\"tooltiptext tooltip-top\">To change default values:<br> obj.rows_display = Int val<br>obj.decimals_display = Int val<br>obj.oneshot_display = False --></span></div></summary><tr><th><th>dim1<th>dim2<th>value<tr><th><b>0</b><td>a<td>1<td>20.00<tr><th><b>1</b><td>a<td>2<td>40.00<tr><th><b>2</b><td>b<td>1<td>60.00<tr><th><b>3</b><td>b<td>2<td>80.00</table></details>"
      ],
      "text/plain": [
       "Array(data=array([[20., 40.],\n",
       "       [60., 80.]]), coords={'dim1': array(['a', 'b'], dtype=object), 'dim2': array([1, 2])})"
      ]
     },
     "execution_count": 10,
     "metadata": {},
     "output_type": "execute_result"
    }
   ],
   "source": [
    "result = arr3 * 2\n",
    "result"
   ]
  },
  {
   "cell_type": "code",
   "execution_count": 11,
   "metadata": {},
   "outputs": [
    {
     "data": {
      "text/html": [
       "<style>\n",
       "\n",
       ".details {\n",
       "    user-select: none;\n",
       "}\n",
       "\n",
       ".details > summary {\n",
       "    display: flex;\n",
       "    cursor: pointer;\n",
       "    position: relative;\n",
       "}\n",
       "\n",
       ".details > summary .span.icon {\n",
       "    width: 24px;\n",
       "    height: 24px;\n",
       "    transition: all 0.3s;\n",
       "    margin-left: auto;\n",
       "}\n",
       "\n",
       ".details[open] > summary.summary ::-webkit-details-marker {\n",
       "    display: none;\n",
       "}\n",
       "\n",
       ".details[open] > summary .span.icon {\n",
       "    transform: rotate(180deg);\n",
       "}\n",
       "\n",
       "/* Tooltip styles */\n",
       ".tooltip {\n",
       "    position: relative;\n",
       "    display: inline-block;\n",
       "    border-bottom: 1px dotted black;\n",
       "}\n",
       "\n",
       ".tooltip .tooltiptext {\n",
       "    visibility: hidden;\n",
       "    width: 165px;\n",
       "    background-color: black;\n",
       "    color: #fff;\n",
       "    text-align: center;\n",
       "    border-radius: 4px;\n",
       "    padding: 2px 0;\n",
       "    position: absolute;\n",
       "    z-index: 1;\n",
       "    font-size: 11px;\n",
       "}\n",
       "\n",
       ".tooltip:hover .tooltiptext {\n",
       "    visibility: visible;\n",
       "}\n",
       "\n",
       ".tooltip .tooltiptext::after {\n",
       "    content: \"\";\n",
       "    position: absolute;\n",
       "    top: 100%;\n",
       "    left: 50%;\n",
       "    margin-left: -8px;\n",
       "    border-width: 8px;\n",
       "    border-style: solid;\n",
       "    border-color: #fff transparent transparent transparent;\n",
       "}\n",
       "\n",
       ".tooltip-top {\n",
       "    bottom: 90%;\n",
       "    margin-left: -40px;\n",
       "}\n",
       "</style><h3>[k]array</h3><table><tr><th>Long object size</th><td>96 bytes</td></tr><tr><th>Data object type</th><td>dense</td></tr><tr><th>Data object size</th><td>32 bytes</td></tr><tr><th>Dimensions</th><td>['dim1', 'dim2']</td></tr><tr><th>Shape</th><td>[2, 2]</td></tr><tr><th>Capacity</th><td>4</td></tr><tr><th>Rows</th><td>4</td></tr></table><details><table><summary><div class=\"tooltip\"> Show unique coords</div></summary><tr><th>Dimension<th>Length<th>Type<th>Items<tr><th><b>dim1</b><td>2<td>object<td><details><summary><div class=\"tooltip\">show details</div></summary>[&#x27;a&#x27; &#x27;b&#x27;]</details><tr><th><b>dim2</b><td>2<td>int64<td><details><summary><div class=\"tooltip\">show details</div></summary>[1 2]</details></table></details><details><table><summary><div class=\"tooltip\"> Show data <small>[default: 16 rows, 2 decimals]</small><!-- <span class=\"tooltiptext tooltip-top\">To change default values:<br> obj.rows_display = Int val<br>obj.decimals_display = Int val<br>obj.oneshot_display = False --></span></div></summary><tr><th><th>dim1<th>dim2<th>value<tr><th><b>0</b><td>a<td>1<td>9.00<tr><th><b>1</b><td>a<td>2<td>-1.00<tr><th><b>2</b><td>b<td>1<td>-1.00<tr><th><b>3</b><td>b<td>2<td>19.00</table></details>"
      ],
      "text/plain": [
       "Array(data=array([[ 9., -1.],\n",
       "       [-1., 19.]]), coords={'dim1': array(['a', 'b'], dtype=object), 'dim2': array([1, 2])})"
      ]
     },
     "execution_count": 11,
     "metadata": {},
     "output_type": "execute_result"
    }
   ],
   "source": [
    "result = arr4 - 1\n",
    "result"
   ]
  },
  {
   "cell_type": "markdown",
   "metadata": {},
   "source": [
    "2. Comparison operations:\n"
   ]
  },
  {
   "cell_type": "code",
   "execution_count": 12,
   "metadata": {},
   "outputs": [],
   "source": [
    "mask = arr2 > 10\n",
    "\n",
    "mask = arr2 == 5"
   ]
  },
  {
   "cell_type": "markdown",
   "metadata": {},
   "source": [
    "3. Logical operations:\n"
   ]
  },
  {
   "cell_type": "code",
   "execution_count": 13,
   "metadata": {},
   "outputs": [],
   "source": [
    "result = arr2 & arr4\n",
    "\n",
    "result = arr2 | arr4\n",
    "\n",
    "result = ~arr2"
   ]
  },
  {
   "cell_type": "markdown",
   "metadata": {},
   "source": [
    "4. Reduction operations:\n"
   ]
  },
  {
   "cell_type": "code",
   "execution_count": 14,
   "metadata": {},
   "outputs": [
    {
     "data": {
      "text/html": [
       "<style>\n",
       "\n",
       ".details {\n",
       "    user-select: none;\n",
       "}\n",
       "\n",
       ".details > summary {\n",
       "    display: flex;\n",
       "    cursor: pointer;\n",
       "    position: relative;\n",
       "}\n",
       "\n",
       ".details > summary .span.icon {\n",
       "    width: 24px;\n",
       "    height: 24px;\n",
       "    transition: all 0.3s;\n",
       "    margin-left: auto;\n",
       "}\n",
       "\n",
       ".details[open] > summary.summary ::-webkit-details-marker {\n",
       "    display: none;\n",
       "}\n",
       "\n",
       ".details[open] > summary .span.icon {\n",
       "    transform: rotate(180deg);\n",
       "}\n",
       "\n",
       "/* Tooltip styles */\n",
       ".tooltip {\n",
       "    position: relative;\n",
       "    display: inline-block;\n",
       "    border-bottom: 1px dotted black;\n",
       "}\n",
       "\n",
       ".tooltip .tooltiptext {\n",
       "    visibility: hidden;\n",
       "    width: 165px;\n",
       "    background-color: black;\n",
       "    color: #fff;\n",
       "    text-align: center;\n",
       "    border-radius: 4px;\n",
       "    padding: 2px 0;\n",
       "    position: absolute;\n",
       "    z-index: 1;\n",
       "    font-size: 11px;\n",
       "}\n",
       "\n",
       ".tooltip:hover .tooltiptext {\n",
       "    visibility: visible;\n",
       "}\n",
       "\n",
       ".tooltip .tooltiptext::after {\n",
       "    content: \"\";\n",
       "    position: absolute;\n",
       "    top: 100%;\n",
       "    left: 50%;\n",
       "    margin-left: -8px;\n",
       "    border-width: 8px;\n",
       "    border-style: solid;\n",
       "    border-color: #fff transparent transparent transparent;\n",
       "}\n",
       "\n",
       ".tooltip-top {\n",
       "    bottom: 90%;\n",
       "    margin-left: -40px;\n",
       "}\n",
       "</style><h3>[k]array</h3><table><tr><th>Long object size</th><td>48 bytes</td></tr><tr><th>Data object type</th><td>dense</td></tr><tr><th>Data object size</th><td>32 bytes</td></tr><tr><th>Dimensions</th><td>['dim2', 'dim3']</td></tr><tr><th>Shape</th><td>[2, 2]</td></tr><tr><th>Capacity</th><td>4</td></tr><tr><th>Rows</th><td>2</td></tr></table><details><table><summary><div class=\"tooltip\"> Show unique coords</div></summary><tr><th>Dimension<th>Length<th>Type<th>Items<tr><th><b>dim2</b><td>2<td>int64<td><details><summary><div class=\"tooltip\">show details</div></summary>[1 2]</details><tr><th><b>dim3</b><td>2<td>datetime64[ns]<td><details><summary><div class=\"tooltip\">show details</div></summary>[&#x27;2020-01-01T00:00:00.000000000&#x27; &#x27;2020-01-02T00:00:00.000000000&#x27;]</details></table></details><details><table><summary><div class=\"tooltip\"> Show data <small>[default: 16 rows, 2 decimals]</small><!-- <span class=\"tooltiptext tooltip-top\">To change default values:<br> obj.rows_display = Int val<br>obj.decimals_display = Int val<br>obj.oneshot_display = False --></span></div></summary><tr><th><th>dim2<th>dim3<th>value<tr><th><b>0</b><td>1<td>2020-01-01T00:00:00.000000000<td>10.00<tr><th><b>1</b><td>2<td>2020-01-02T00:00:00.000000000<td>20.00</table></details>"
      ],
      "text/plain": [
       "Array(data=array([[10.,  0.],\n",
       "       [ 0., 20.]]), coords={'dim2': array([1, 2]), 'dim3': array(['2020-01-01T00:00:00.000000000', '2020-01-02T00:00:00.000000000'],\n",
       "      dtype='datetime64[ns]')})"
      ]
     },
     "execution_count": 14,
     "metadata": {},
     "output_type": "execute_result"
    }
   ],
   "source": [
    "result = arr1.reduce('dim1', aggfunc='sum')\n",
    "result"
   ]
  },
  {
   "cell_type": "code",
   "execution_count": 15,
   "metadata": {},
   "outputs": [
    {
     "data": {
      "text/html": [
       "<style>\n",
       "\n",
       ".details {\n",
       "    user-select: none;\n",
       "}\n",
       "\n",
       ".details > summary {\n",
       "    display: flex;\n",
       "    cursor: pointer;\n",
       "    position: relative;\n",
       "}\n",
       "\n",
       ".details > summary .span.icon {\n",
       "    width: 24px;\n",
       "    height: 24px;\n",
       "    transition: all 0.3s;\n",
       "    margin-left: auto;\n",
       "}\n",
       "\n",
       ".details[open] > summary.summary ::-webkit-details-marker {\n",
       "    display: none;\n",
       "}\n",
       "\n",
       ".details[open] > summary .span.icon {\n",
       "    transform: rotate(180deg);\n",
       "}\n",
       "\n",
       "/* Tooltip styles */\n",
       ".tooltip {\n",
       "    position: relative;\n",
       "    display: inline-block;\n",
       "    border-bottom: 1px dotted black;\n",
       "}\n",
       "\n",
       ".tooltip .tooltiptext {\n",
       "    visibility: hidden;\n",
       "    width: 165px;\n",
       "    background-color: black;\n",
       "    color: #fff;\n",
       "    text-align: center;\n",
       "    border-radius: 4px;\n",
       "    padding: 2px 0;\n",
       "    position: absolute;\n",
       "    z-index: 1;\n",
       "    font-size: 11px;\n",
       "}\n",
       "\n",
       ".tooltip:hover .tooltiptext {\n",
       "    visibility: visible;\n",
       "}\n",
       "\n",
       ".tooltip .tooltiptext::after {\n",
       "    content: \"\";\n",
       "    position: absolute;\n",
       "    top: 100%;\n",
       "    left: 50%;\n",
       "    margin-left: -8px;\n",
       "    border-width: 8px;\n",
       "    border-style: solid;\n",
       "    border-color: #fff transparent transparent transparent;\n",
       "}\n",
       "\n",
       ".tooltip-top {\n",
       "    bottom: 90%;\n",
       "    margin-left: -40px;\n",
       "}\n",
       "</style><h3>[k]array</h3><table><tr><th>Long object size</th><td>48 bytes</td></tr><tr><th>Data object type</th><td>dense</td></tr><tr><th>Data object size</th><td>32 bytes</td></tr><tr><th>Dimensions</th><td>['dim1', 'dim3']</td></tr><tr><th>Shape</th><td>[2, 2]</td></tr><tr><th>Capacity</th><td>4</td></tr><tr><th>Rows</th><td>2</td></tr></table><details><table><summary><div class=\"tooltip\"> Show unique coords</div></summary><tr><th>Dimension<th>Length<th>Type<th>Items<tr><th><b>dim1</b><td>2<td>object<td><details><summary><div class=\"tooltip\">show details</div></summary>[&#x27;a&#x27; &#x27;b&#x27;]</details><tr><th><b>dim3</b><td>2<td>datetime64[ns]<td><details><summary><div class=\"tooltip\">show details</div></summary>[&#x27;2020-01-01T00:00:00.000000000&#x27; &#x27;2020-01-02T00:00:00.000000000&#x27;]</details></table></details><details><table><summary><div class=\"tooltip\"> Show data <small>[default: 16 rows, 2 decimals]</small><!-- <span class=\"tooltiptext tooltip-top\">To change default values:<br> obj.rows_display = Int val<br>obj.decimals_display = Int val<br>obj.oneshot_display = False --></span></div></summary><tr><th><th>dim1<th>dim3<th>value<tr><th><b>0</b><td>a<td>2020-01-01T00:00:00.000000000<td>5.00<tr><th><b>1</b><td>b<td>2020-01-02T00:00:00.000000000<td>10.00</table></details>"
      ],
      "text/plain": [
       "Array(data=array([[ 5.,  0.],\n",
       "       [ 0., 10.]]), coords={'dim1': array(['a', 'b'], dtype=object), 'dim3': array(['2020-01-01T00:00:00.000000000', '2020-01-02T00:00:00.000000000'],\n",
       "      dtype='datetime64[ns]')})"
      ]
     },
     "execution_count": 15,
     "metadata": {},
     "output_type": "execute_result"
    }
   ],
   "source": [
    "result = arr1.reduce('dim2', aggfunc=np.mean)\n",
    "result"
   ]
  },
  {
   "cell_type": "markdown",
   "metadata": {},
   "source": [
    "5. Shifting and rolling operations:\n"
   ]
  },
  {
   "cell_type": "code",
   "execution_count": 16,
   "metadata": {},
   "outputs": [
    {
     "data": {
      "text/html": [
       "<style>\n",
       "\n",
       ".details {\n",
       "    user-select: none;\n",
       "}\n",
       "\n",
       ".details > summary {\n",
       "    display: flex;\n",
       "    cursor: pointer;\n",
       "    position: relative;\n",
       "}\n",
       "\n",
       ".details > summary .span.icon {\n",
       "    width: 24px;\n",
       "    height: 24px;\n",
       "    transition: all 0.3s;\n",
       "    margin-left: auto;\n",
       "}\n",
       "\n",
       ".details[open] > summary.summary ::-webkit-details-marker {\n",
       "    display: none;\n",
       "}\n",
       "\n",
       ".details[open] > summary .span.icon {\n",
       "    transform: rotate(180deg);\n",
       "}\n",
       "\n",
       "/* Tooltip styles */\n",
       ".tooltip {\n",
       "    position: relative;\n",
       "    display: inline-block;\n",
       "    border-bottom: 1px dotted black;\n",
       "}\n",
       "\n",
       ".tooltip .tooltiptext {\n",
       "    visibility: hidden;\n",
       "    width: 165px;\n",
       "    background-color: black;\n",
       "    color: #fff;\n",
       "    text-align: center;\n",
       "    border-radius: 4px;\n",
       "    padding: 2px 0;\n",
       "    position: absolute;\n",
       "    z-index: 1;\n",
       "    font-size: 11px;\n",
       "}\n",
       "\n",
       ".tooltip:hover .tooltiptext {\n",
       "    visibility: visible;\n",
       "}\n",
       "\n",
       ".tooltip .tooltiptext::after {\n",
       "    content: \"\";\n",
       "    position: absolute;\n",
       "    top: 100%;\n",
       "    left: 50%;\n",
       "    margin-left: -8px;\n",
       "    border-width: 8px;\n",
       "    border-style: solid;\n",
       "    border-color: #fff transparent transparent transparent;\n",
       "}\n",
       "\n",
       ".tooltip-top {\n",
       "    bottom: 90%;\n",
       "    margin-left: -40px;\n",
       "}\n",
       "</style><h3>[k]array</h3><table><tr><th>Long object size</th><td>24 bytes</td></tr><tr><th>Data object type</th><td>dense</td></tr><tr><th>Data object size</th><td>32 bytes</td></tr><tr><th>Dimensions</th><td>['dim1', 'dim2']</td></tr><tr><th>Shape</th><td>[2, 2]</td></tr><tr><th>Capacity</th><td>4</td></tr><tr><th>Rows</th><td>1</td></tr></table><details><table><summary><div class=\"tooltip\"> Show unique coords</div></summary><tr><th>Dimension<th>Length<th>Type<th>Items<tr><th><b>dim1</b><td>2<td>object<td><details><summary><div class=\"tooltip\">show details</div></summary>[&#x27;a&#x27; &#x27;b&#x27;]</details><tr><th><b>dim2</b><td>2<td>int64<td><details><summary><div class=\"tooltip\">show details</div></summary>[1 2]</details></table></details><details><table><summary><div class=\"tooltip\"> Show data <small>[default: 16 rows, 2 decimals]</small><!-- <span class=\"tooltiptext tooltip-top\">To change default values:<br> obj.rows_display = Int val<br>obj.decimals_display = Int val<br>obj.oneshot_display = False --></span></div></summary><tr><th><th>dim1<th>dim2<th>value<tr><th><b>0</b><td>b<td>1<td>20.00</table></details>"
      ],
      "text/plain": [
       "Array(data=array([[ 0.,  0.],\n",
       "       [20.,  0.]]), coords={'dim1': array(['a', 'b'], dtype=object), 'dim2': array([1, 2])})"
      ]
     },
     "execution_count": 16,
     "metadata": {},
     "output_type": "execute_result"
    }
   ],
   "source": [
    "shifted = arr3.shift(dim1=1, dim2=-1, fill_value=0.)\n",
    "shifted"
   ]
  },
  {
   "cell_type": "code",
   "execution_count": 17,
   "metadata": {},
   "outputs": [
    {
     "data": {
      "text/html": [
       "<style>\n",
       "\n",
       ".details {\n",
       "    user-select: none;\n",
       "}\n",
       "\n",
       ".details > summary {\n",
       "    display: flex;\n",
       "    cursor: pointer;\n",
       "    position: relative;\n",
       "}\n",
       "\n",
       ".details > summary .span.icon {\n",
       "    width: 24px;\n",
       "    height: 24px;\n",
       "    transition: all 0.3s;\n",
       "    margin-left: auto;\n",
       "}\n",
       "\n",
       ".details[open] > summary.summary ::-webkit-details-marker {\n",
       "    display: none;\n",
       "}\n",
       "\n",
       ".details[open] > summary .span.icon {\n",
       "    transform: rotate(180deg);\n",
       "}\n",
       "\n",
       "/* Tooltip styles */\n",
       ".tooltip {\n",
       "    position: relative;\n",
       "    display: inline-block;\n",
       "    border-bottom: 1px dotted black;\n",
       "}\n",
       "\n",
       ".tooltip .tooltiptext {\n",
       "    visibility: hidden;\n",
       "    width: 165px;\n",
       "    background-color: black;\n",
       "    color: #fff;\n",
       "    text-align: center;\n",
       "    border-radius: 4px;\n",
       "    padding: 2px 0;\n",
       "    position: absolute;\n",
       "    z-index: 1;\n",
       "    font-size: 11px;\n",
       "}\n",
       "\n",
       ".tooltip:hover .tooltiptext {\n",
       "    visibility: visible;\n",
       "}\n",
       "\n",
       ".tooltip .tooltiptext::after {\n",
       "    content: \"\";\n",
       "    position: absolute;\n",
       "    top: 100%;\n",
       "    left: 50%;\n",
       "    margin-left: -8px;\n",
       "    border-width: 8px;\n",
       "    border-style: solid;\n",
       "    border-color: #fff transparent transparent transparent;\n",
       "}\n",
       "\n",
       ".tooltip-top {\n",
       "    bottom: 90%;\n",
       "    margin-left: -40px;\n",
       "}\n",
       "</style><h3>[k]array</h3><table><tr><th>Long object size</th><td>96 bytes</td></tr><tr><th>Data object type</th><td>dense</td></tr><tr><th>Data object size</th><td>32 bytes</td></tr><tr><th>Dimensions</th><td>['dim1', 'dim2']</td></tr><tr><th>Shape</th><td>[2, 2]</td></tr><tr><th>Capacity</th><td>4</td></tr><tr><th>Rows</th><td>4</td></tr></table><details><table><summary><div class=\"tooltip\"> Show unique coords</div></summary><tr><th>Dimension<th>Length<th>Type<th>Items<tr><th><b>dim1</b><td>2<td>object<td><details><summary><div class=\"tooltip\">show details</div></summary>[&#x27;a&#x27; &#x27;b&#x27;]</details><tr><th><b>dim2</b><td>2<td>int64<td><details><summary><div class=\"tooltip\">show details</div></summary>[1 2]</details></table></details><details><table><summary><div class=\"tooltip\"> Show data <small>[default: 16 rows, 2 decimals]</small><!-- <span class=\"tooltiptext tooltip-top\">To change default values:<br> obj.rows_display = Int val<br>obj.decimals_display = Int val<br>obj.oneshot_display = False --></span></div></summary><tr><th><th>dim1<th>dim2<th>value<tr><th><b>0</b><td>a<td>1<td>10.00<tr><th><b>1</b><td>a<td>2<td>20.00<tr><th><b>2</b><td>b<td>1<td>30.00<tr><th><b>3</b><td>b<td>2<td>40.00</table></details>"
      ],
      "text/plain": [
       "Array(data=array([[10., 20.],\n",
       "       [30., 40.]]), coords={'dim1': array(['a', 'b'], dtype=object), 'dim2': array([1, 2])})"
      ]
     },
     "execution_count": 17,
     "metadata": {},
     "output_type": "execute_result"
    }
   ],
   "source": [
    "rolled = arr3.roll(dim1=2)\n",
    "rolled"
   ]
  },
  {
   "cell_type": "markdown",
   "metadata": {},
   "source": [
    "6. Inserting new dimensions:\n"
   ]
  },
  {
   "cell_type": "code",
   "execution_count": 18,
   "metadata": {},
   "outputs": [
    {
     "data": {
      "text/html": [
       "<style>\n",
       "\n",
       ".details {\n",
       "    user-select: none;\n",
       "}\n",
       "\n",
       ".details > summary {\n",
       "    display: flex;\n",
       "    cursor: pointer;\n",
       "    position: relative;\n",
       "}\n",
       "\n",
       ".details > summary .span.icon {\n",
       "    width: 24px;\n",
       "    height: 24px;\n",
       "    transition: all 0.3s;\n",
       "    margin-left: auto;\n",
       "}\n",
       "\n",
       ".details[open] > summary.summary ::-webkit-details-marker {\n",
       "    display: none;\n",
       "}\n",
       "\n",
       ".details[open] > summary .span.icon {\n",
       "    transform: rotate(180deg);\n",
       "}\n",
       "\n",
       "/* Tooltip styles */\n",
       ".tooltip {\n",
       "    position: relative;\n",
       "    display: inline-block;\n",
       "    border-bottom: 1px dotted black;\n",
       "}\n",
       "\n",
       ".tooltip .tooltiptext {\n",
       "    visibility: hidden;\n",
       "    width: 165px;\n",
       "    background-color: black;\n",
       "    color: #fff;\n",
       "    text-align: center;\n",
       "    border-radius: 4px;\n",
       "    padding: 2px 0;\n",
       "    position: absolute;\n",
       "    z-index: 1;\n",
       "    font-size: 11px;\n",
       "}\n",
       "\n",
       ".tooltip:hover .tooltiptext {\n",
       "    visibility: visible;\n",
       "}\n",
       "\n",
       ".tooltip .tooltiptext::after {\n",
       "    content: \"\";\n",
       "    position: absolute;\n",
       "    top: 100%;\n",
       "    left: 50%;\n",
       "    margin-left: -8px;\n",
       "    border-width: 8px;\n",
       "    border-style: solid;\n",
       "    border-color: #fff transparent transparent transparent;\n",
       "}\n",
       "\n",
       ".tooltip-top {\n",
       "    bottom: 90%;\n",
       "    margin-left: -40px;\n",
       "}\n",
       "</style><h3>[k]array</h3><table><tr><th>Long object size</th><td>64 bytes</td></tr><tr><th>Data object type</th><td>dense</td></tr><tr><th>Data object size</th><td>32 bytes</td></tr><tr><th>Dimensions</th><td>['dim3', 'dim1', 'dim2']</td></tr><tr><th>Shape</th><td>[1, 2, 2]</td></tr><tr><th>Capacity</th><td>4</td></tr><tr><th>Rows</th><td>2</td></tr></table><details><table><summary><div class=\"tooltip\"> Show unique coords</div></summary><tr><th>Dimension<th>Length<th>Type<th>Items<tr><th><b>dim3</b><td>1<td>object<td><details><summary><div class=\"tooltip\">show details</div></summary>[&#x27;x&#x27;]</details><tr><th><b>dim1</b><td>2<td>object<td><details><summary><div class=\"tooltip\">show details</div></summary>[&#x27;a&#x27; &#x27;b&#x27;]</details><tr><th><b>dim2</b><td>2<td>int64<td><details><summary><div class=\"tooltip\">show details</div></summary>[1 2]</details></table></details><details><table><summary><div class=\"tooltip\"> Show data <small>[default: 16 rows, 2 decimals]</small><!-- <span class=\"tooltiptext tooltip-top\">To change default values:<br> obj.rows_display = Int val<br>obj.decimals_display = Int val<br>obj.oneshot_display = False --></span></div></summary><tr><th><th>dim3<th>dim1<th>dim2<th>value<tr><th><b>0</b><td>x<td>a<td>1<td>10<tr><th><b>1</b><td>x<td>b<td>2<td>20</table></details>"
      ],
      "text/plain": [
       "Array(data=array([[[10,  0],\n",
       "        [ 0, 20]]]), coords={'dim3': array(['x'], dtype=object), 'dim1': array(['a', 'b'], dtype=object), 'dim2': array([1, 2])})"
      ]
     },
     "execution_count": 18,
     "metadata": {},
     "output_type": "execute_result"
    }
   ],
   "source": [
    "# One dimension with one element\n",
    "result = arr2.insert(dim3='x')\n",
    "result"
   ]
  },
  {
   "cell_type": "code",
   "execution_count": 19,
   "metadata": {},
   "outputs": [
    {
     "data": {
      "text/html": [
       "<style>\n",
       "\n",
       ".details {\n",
       "    user-select: none;\n",
       "}\n",
       "\n",
       ".details > summary {\n",
       "    display: flex;\n",
       "    cursor: pointer;\n",
       "    position: relative;\n",
       "}\n",
       "\n",
       ".details > summary .span.icon {\n",
       "    width: 24px;\n",
       "    height: 24px;\n",
       "    transition: all 0.3s;\n",
       "    margin-left: auto;\n",
       "}\n",
       "\n",
       ".details[open] > summary.summary ::-webkit-details-marker {\n",
       "    display: none;\n",
       "}\n",
       "\n",
       ".details[open] > summary .span.icon {\n",
       "    transform: rotate(180deg);\n",
       "}\n",
       "\n",
       "/* Tooltip styles */\n",
       ".tooltip {\n",
       "    position: relative;\n",
       "    display: inline-block;\n",
       "    border-bottom: 1px dotted black;\n",
       "}\n",
       "\n",
       ".tooltip .tooltiptext {\n",
       "    visibility: hidden;\n",
       "    width: 165px;\n",
       "    background-color: black;\n",
       "    color: #fff;\n",
       "    text-align: center;\n",
       "    border-radius: 4px;\n",
       "    padding: 2px 0;\n",
       "    position: absolute;\n",
       "    z-index: 1;\n",
       "    font-size: 11px;\n",
       "}\n",
       "\n",
       ".tooltip:hover .tooltiptext {\n",
       "    visibility: visible;\n",
       "}\n",
       "\n",
       ".tooltip .tooltiptext::after {\n",
       "    content: \"\";\n",
       "    position: absolute;\n",
       "    top: 100%;\n",
       "    left: 50%;\n",
       "    margin-left: -8px;\n",
       "    border-width: 8px;\n",
       "    border-style: solid;\n",
       "    border-color: #fff transparent transparent transparent;\n",
       "}\n",
       "\n",
       ".tooltip-top {\n",
       "    bottom: 90%;\n",
       "    margin-left: -40px;\n",
       "}\n",
       "</style><h3>[k]array</h3><table><tr><th>Long object size</th><td>64 bytes</td></tr><tr><th>Data object type</th><td>dense</td></tr><tr><th>Data object size</th><td>64 bytes</td></tr><tr><th>Dimensions</th><td>['dim3', 'dim1', 'dim2']</td></tr><tr><th>Shape</th><td>[2, 2, 2]</td></tr><tr><th>Capacity</th><td>8</td></tr><tr><th>Rows</th><td>2</td></tr></table><details><table><summary><div class=\"tooltip\"> Show unique coords</div></summary><tr><th>Dimension<th>Length<th>Type<th>Items<tr><th><b>dim3</b><td>2<td>int64<td><details><summary><div class=\"tooltip\">show details</div></summary>[-2 -1]</details><tr><th><b>dim1</b><td>2<td>object<td><details><summary><div class=\"tooltip\">show details</div></summary>[&#x27;a&#x27; &#x27;b&#x27;]</details><tr><th><b>dim2</b><td>2<td>int64<td><details><summary><div class=\"tooltip\">show details</div></summary>[1 2]</details></table></details><details><table><summary><div class=\"tooltip\"> Show data <small>[default: 16 rows, 2 decimals]</small><!-- <span class=\"tooltiptext tooltip-top\">To change default values:<br> obj.rows_display = Int val<br>obj.decimals_display = Int val<br>obj.oneshot_display = False --></span></div></summary><tr><th><th>dim3<th>dim1<th>dim2<th>value<tr><th><b>0</b><td>-1<td>a<td>1<td>10<tr><th><b>1</b><td>-2<td>b<td>2<td>20</table></details>"
      ],
      "text/plain": [
       "Array(data=array([[[ 0,  0],\n",
       "        [ 0, 20]],\n",
       "\n",
       "       [[10,  0],\n",
       "        [ 0,  0]]]), coords={'dim3': array([-2, -1]), 'dim1': array(['a', 'b'], dtype=object), 'dim2': array([1, 2])})"
      ]
     },
     "execution_count": 19,
     "metadata": {},
     "output_type": "execute_result"
    }
   ],
   "source": [
    "# One dimension with several elements related to an existing dimension using a dict\n",
    "result = arr2.insert(dim3={'dim1': {'a': -1, 'b': -2}})\n",
    "result"
   ]
  },
  {
   "cell_type": "code",
   "execution_count": 20,
   "metadata": {},
   "outputs": [
    {
     "data": {
      "text/html": [
       "<style>\n",
       "\n",
       ".details {\n",
       "    user-select: none;\n",
       "}\n",
       "\n",
       ".details > summary {\n",
       "    display: flex;\n",
       "    cursor: pointer;\n",
       "    position: relative;\n",
       "}\n",
       "\n",
       ".details > summary .span.icon {\n",
       "    width: 24px;\n",
       "    height: 24px;\n",
       "    transition: all 0.3s;\n",
       "    margin-left: auto;\n",
       "}\n",
       "\n",
       ".details[open] > summary.summary ::-webkit-details-marker {\n",
       "    display: none;\n",
       "}\n",
       "\n",
       ".details[open] > summary .span.icon {\n",
       "    transform: rotate(180deg);\n",
       "}\n",
       "\n",
       "/* Tooltip styles */\n",
       ".tooltip {\n",
       "    position: relative;\n",
       "    display: inline-block;\n",
       "    border-bottom: 1px dotted black;\n",
       "}\n",
       "\n",
       ".tooltip .tooltiptext {\n",
       "    visibility: hidden;\n",
       "    width: 165px;\n",
       "    background-color: black;\n",
       "    color: #fff;\n",
       "    text-align: center;\n",
       "    border-radius: 4px;\n",
       "    padding: 2px 0;\n",
       "    position: absolute;\n",
       "    z-index: 1;\n",
       "    font-size: 11px;\n",
       "}\n",
       "\n",
       ".tooltip:hover .tooltiptext {\n",
       "    visibility: visible;\n",
       "}\n",
       "\n",
       ".tooltip .tooltiptext::after {\n",
       "    content: \"\";\n",
       "    position: absolute;\n",
       "    top: 100%;\n",
       "    left: 50%;\n",
       "    margin-left: -8px;\n",
       "    border-width: 8px;\n",
       "    border-style: solid;\n",
       "    border-color: #fff transparent transparent transparent;\n",
       "}\n",
       "\n",
       ".tooltip-top {\n",
       "    bottom: 90%;\n",
       "    margin-left: -40px;\n",
       "}\n",
       "</style><h3>[k]array</h3><table><tr><th>Long object size</th><td>64 bytes</td></tr><tr><th>Data object type</th><td>dense</td></tr><tr><th>Data object size</th><td>64 bytes</td></tr><tr><th>Dimensions</th><td>['dim3', 'dim1', 'dim2']</td></tr><tr><th>Shape</th><td>[2, 2, 2]</td></tr><tr><th>Capacity</th><td>8</td></tr><tr><th>Rows</th><td>2</td></tr></table><details><table><summary><div class=\"tooltip\"> Show unique coords</div></summary><tr><th>Dimension<th>Length<th>Type<th>Items<tr><th><b>dim3</b><td>2<td>int64<td><details><summary><div class=\"tooltip\">show details</div></summary>[-1 -2]</details><tr><th><b>dim1</b><td>2<td>object<td><details><summary><div class=\"tooltip\">show details</div></summary>[&#x27;a&#x27; &#x27;b&#x27;]</details><tr><th><b>dim2</b><td>2<td>int64<td><details><summary><div class=\"tooltip\">show details</div></summary>[1 2]</details></table></details><details><table><summary><div class=\"tooltip\"> Show data <small>[default: 16 rows, 2 decimals]</small><!-- <span class=\"tooltiptext tooltip-top\">To change default values:<br> obj.rows_display = Int val<br>obj.decimals_display = Int val<br>obj.oneshot_display = False --></span></div></summary><tr><th><th>dim3<th>dim1<th>dim2<th>value<tr><th><b>0</b><td>-1<td>a<td>1<td>10<tr><th><b>1</b><td>-2<td>b<td>2<td>20</table></details>"
      ],
      "text/plain": [
       "Array(data=array([[[10,  0],\n",
       "        [ 0,  0]],\n",
       "\n",
       "       [[ 0,  0],\n",
       "        [ 0, 20]]]), coords={'dim3': array([-1, -2]), 'dim1': array(['a', 'b'], dtype=object), 'dim2': array([1, 2])})"
      ]
     },
     "execution_count": 20,
     "metadata": {},
     "output_type": "execute_result"
    }
   ],
   "source": [
    "# One dimension with several elements related to an existing dimension using two lists\n",
    "result = arr2.insert(dim3={'dim1': [['a', 'b'], [-1, -2]]})\n",
    "result"
   ]
  },
  {
   "cell_type": "markdown",
   "metadata": {},
   "source": [
    "7. Drop a dimension:\n"
   ]
  },
  {
   "cell_type": "code",
   "execution_count": 21,
   "metadata": {},
   "outputs": [
    {
     "data": {
      "text/html": [
       "<style>\n",
       "\n",
       ".details {\n",
       "    user-select: none;\n",
       "}\n",
       "\n",
       ".details > summary {\n",
       "    display: flex;\n",
       "    cursor: pointer;\n",
       "    position: relative;\n",
       "}\n",
       "\n",
       ".details > summary .span.icon {\n",
       "    width: 24px;\n",
       "    height: 24px;\n",
       "    transition: all 0.3s;\n",
       "    margin-left: auto;\n",
       "}\n",
       "\n",
       ".details[open] > summary.summary ::-webkit-details-marker {\n",
       "    display: none;\n",
       "}\n",
       "\n",
       ".details[open] > summary .span.icon {\n",
       "    transform: rotate(180deg);\n",
       "}\n",
       "\n",
       "/* Tooltip styles */\n",
       ".tooltip {\n",
       "    position: relative;\n",
       "    display: inline-block;\n",
       "    border-bottom: 1px dotted black;\n",
       "}\n",
       "\n",
       ".tooltip .tooltiptext {\n",
       "    visibility: hidden;\n",
       "    width: 165px;\n",
       "    background-color: black;\n",
       "    color: #fff;\n",
       "    text-align: center;\n",
       "    border-radius: 4px;\n",
       "    padding: 2px 0;\n",
       "    position: absolute;\n",
       "    z-index: 1;\n",
       "    font-size: 11px;\n",
       "}\n",
       "\n",
       ".tooltip:hover .tooltiptext {\n",
       "    visibility: visible;\n",
       "}\n",
       "\n",
       ".tooltip .tooltiptext::after {\n",
       "    content: \"\";\n",
       "    position: absolute;\n",
       "    top: 100%;\n",
       "    left: 50%;\n",
       "    margin-left: -8px;\n",
       "    border-width: 8px;\n",
       "    border-style: solid;\n",
       "    border-color: #fff transparent transparent transparent;\n",
       "}\n",
       "\n",
       ".tooltip-top {\n",
       "    bottom: 90%;\n",
       "    margin-left: -40px;\n",
       "}\n",
       "</style><h3>[k]array</h3><table><tr><th>Long object size</th><td>48 bytes</td></tr><tr><th>Data object type</th><td>dense</td></tr><tr><th>Data object size</th><td>32 bytes</td></tr><tr><th>Dimensions</th><td>['dim1', 'dim2']</td></tr><tr><th>Shape</th><td>[2, 2]</td></tr><tr><th>Capacity</th><td>4</td></tr><tr><th>Rows</th><td>2</td></tr></table><details><table><summary><div class=\"tooltip\"> Show unique coords</div></summary><tr><th>Dimension<th>Length<th>Type<th>Items<tr><th><b>dim1</b><td>2<td>object<td><details><summary><div class=\"tooltip\">show details</div></summary>[&#x27;a&#x27; &#x27;b&#x27;]</details><tr><th><b>dim2</b><td>2<td>int64<td><details><summary><div class=\"tooltip\">show details</div></summary>[1 2]</details></table></details><details><table><summary><div class=\"tooltip\"> Show data <small>[default: 16 rows, 2 decimals]</small><!-- <span class=\"tooltiptext tooltip-top\">To change default values:<br> obj.rows_display = Int val<br>obj.decimals_display = Int val<br>obj.oneshot_display = False --></span></div></summary><tr><th><th>dim1<th>dim2<th>value<tr><th><b>0</b><td>a<td>1<td>10.00<tr><th><b>1</b><td>b<td>2<td>20.00</table></details>"
      ],
      "text/plain": [
       "Array(data=array([[10.,  0.],\n",
       "       [ 0., 20.]]), coords={'dim1': array(['a', 'b'], dtype=object), 'dim2': array([1, 2])})"
      ]
     },
     "execution_count": 21,
     "metadata": {},
     "output_type": "execute_result"
    }
   ],
   "source": [
    "result = arr1.drop('dim3')\n",
    "result"
   ]
  },
  {
   "cell_type": "markdown",
   "metadata": {},
   "source": [
    "!!! WARNING\n",
    "\n",
    "    Dropping a dimension will work only if the resulting array still has unique coordinates.\n",
    "    If dropping a dimension leads to an array with duplicate coordinates, as a results of the removed dimension, karray will raise an error.\n"
   ]
  },
  {
   "cell_type": "code",
   "execution_count": 22,
   "metadata": {},
   "outputs": [
    {
     "name": "stdout",
     "output_type": "stream",
     "text": [
      "Index items per row must be unique. By removing ['dim2'] leads the existence of repeated indexes \n",
      "e.g.:\n",
      "  ('dim1',) value\n",
      "0 ('a',) 10.0\n",
      "1 ('a',) 20.0\n",
      "Intead, you can use obj.reduce('dim2')\n",
      "With an aggfunc: sum() by default\n"
     ]
    }
   ],
   "source": [
    "# Assertion error due to duplicate coords\n",
    "try:\n",
    "    arr3.drop('dim2')\n",
    "except AssertionError as e:\n",
    "    print(e)"
   ]
  },
  {
   "cell_type": "markdown",
   "metadata": {},
   "source": [
    "8. Expanding a dimension (Broadcasting)\n"
   ]
  },
  {
   "cell_type": "code",
   "execution_count": 23,
   "metadata": {},
   "outputs": [
    {
     "data": {
      "text/html": [
       "<style>\n",
       "\n",
       ".details {\n",
       "    user-select: none;\n",
       "}\n",
       "\n",
       ".details > summary {\n",
       "    display: flex;\n",
       "    cursor: pointer;\n",
       "    position: relative;\n",
       "}\n",
       "\n",
       ".details > summary .span.icon {\n",
       "    width: 24px;\n",
       "    height: 24px;\n",
       "    transition: all 0.3s;\n",
       "    margin-left: auto;\n",
       "}\n",
       "\n",
       ".details[open] > summary.summary ::-webkit-details-marker {\n",
       "    display: none;\n",
       "}\n",
       "\n",
       ".details[open] > summary .span.icon {\n",
       "    transform: rotate(180deg);\n",
       "}\n",
       "\n",
       "/* Tooltip styles */\n",
       ".tooltip {\n",
       "    position: relative;\n",
       "    display: inline-block;\n",
       "    border-bottom: 1px dotted black;\n",
       "}\n",
       "\n",
       ".tooltip .tooltiptext {\n",
       "    visibility: hidden;\n",
       "    width: 165px;\n",
       "    background-color: black;\n",
       "    color: #fff;\n",
       "    text-align: center;\n",
       "    border-radius: 4px;\n",
       "    padding: 2px 0;\n",
       "    position: absolute;\n",
       "    z-index: 1;\n",
       "    font-size: 11px;\n",
       "}\n",
       "\n",
       ".tooltip:hover .tooltiptext {\n",
       "    visibility: visible;\n",
       "}\n",
       "\n",
       ".tooltip .tooltiptext::after {\n",
       "    content: \"\";\n",
       "    position: absolute;\n",
       "    top: 100%;\n",
       "    left: 50%;\n",
       "    margin-left: -8px;\n",
       "    border-width: 8px;\n",
       "    border-style: solid;\n",
       "    border-color: #fff transparent transparent transparent;\n",
       "}\n",
       "\n",
       ".tooltip-top {\n",
       "    bottom: 90%;\n",
       "    margin-left: -40px;\n",
       "}\n",
       "</style><h3>[k]array</h3><table><tr><th>Long object size</th><td>384 bytes</td></tr><tr><th>Data object type</th><td>dense</td></tr><tr><th>Data object size</th><td>96 bytes</td></tr><tr><th>Dimensions</th><td>['dim1', 'dim2', 'dim3']</td></tr><tr><th>Shape</th><td>[2, 2, 3]</td></tr><tr><th>Capacity</th><td>12</td></tr><tr><th>Rows</th><td>12</td></tr></table><details><table><summary><div class=\"tooltip\"> Show unique coords</div></summary><tr><th>Dimension<th>Length<th>Type<th>Items<tr><th><b>dim1</b><td>2<td>object<td><details><summary><div class=\"tooltip\">show details</div></summary>[&#x27;a&#x27; &#x27;b&#x27;]</details><tr><th><b>dim2</b><td>2<td>int64<td><details><summary><div class=\"tooltip\">show details</div></summary>[1 2]</details><tr><th><b>dim3</b><td>3<td>object<td><details><summary><div class=\"tooltip\">show details</div></summary>[&#x27;x&#x27; &#x27;y&#x27; &#x27;z&#x27;]</details></table></details><details><table><summary><div class=\"tooltip\"> Show data <small>[default: 16 rows, 2 decimals]</small><!-- <span class=\"tooltiptext tooltip-top\">To change default values:<br> obj.rows_display = Int val<br>obj.decimals_display = Int val<br>obj.oneshot_display = False --></span></div></summary><tr><th><th>dim1<th>dim2<th>dim3<th>value<tr><th><b>0</b><td>a<td>1<td>x<td>10.00<tr><th><b>1</b><td>a<td>1<td>y<td>10.00<tr><th><b>2</b><td>a<td>1<td>z<td>10.00<tr><th><b>3</b><td>a<td>2<td>x<td>20.00<tr><th><b>4</b><td>a<td>2<td>y<td>20.00<tr><th><b>5</b><td>a<td>2<td>z<td>20.00<tr><th><b>6</b><td>b<td>1<td>x<td>30.00<tr><th><b>7</b><td>b<td>1<td>y<td>30.00<tr><th><b>8</b><td>b<td>1<td>z<td>30.00<tr><th><b>9</b><td>b<td>2<td>x<td>40.00<tr><th><b>10</b><td>b<td>2<td>y<td>40.00<tr><th><b>11</b><td>b<td>2<td>z<td>40.00</table></details>"
      ],
      "text/plain": [
       "Array(data=array([[[10., 10., 10.],\n",
       "        [20., 20., 20.]],\n",
       "\n",
       "       [[30., 30., 30.],\n",
       "        [40., 40., 40.]]]), coords={'dim1': array(['a', 'b'], dtype=object), 'dim2': array([1, 2]), 'dim3': array(['x', 'y', 'z'], dtype=object)})"
      ]
     },
     "execution_count": 23,
     "metadata": {},
     "output_type": "execute_result"
    }
   ],
   "source": [
    "result = arr3.expand(dim3=['x', 'y', 'z'])\n",
    "result"
   ]
  },
  {
   "cell_type": "markdown",
   "metadata": {},
   "source": [
    "9. ufunc operations\n"
   ]
  },
  {
   "cell_type": "code",
   "execution_count": 24,
   "metadata": {},
   "outputs": [
    {
     "data": {
      "text/html": [
       "<style>\n",
       "\n",
       ".details {\n",
       "    user-select: none;\n",
       "}\n",
       "\n",
       ".details > summary {\n",
       "    display: flex;\n",
       "    cursor: pointer;\n",
       "    position: relative;\n",
       "}\n",
       "\n",
       ".details > summary .span.icon {\n",
       "    width: 24px;\n",
       "    height: 24px;\n",
       "    transition: all 0.3s;\n",
       "    margin-left: auto;\n",
       "}\n",
       "\n",
       ".details[open] > summary.summary ::-webkit-details-marker {\n",
       "    display: none;\n",
       "}\n",
       "\n",
       ".details[open] > summary .span.icon {\n",
       "    transform: rotate(180deg);\n",
       "}\n",
       "\n",
       "/* Tooltip styles */\n",
       ".tooltip {\n",
       "    position: relative;\n",
       "    display: inline-block;\n",
       "    border-bottom: 1px dotted black;\n",
       "}\n",
       "\n",
       ".tooltip .tooltiptext {\n",
       "    visibility: hidden;\n",
       "    width: 165px;\n",
       "    background-color: black;\n",
       "    color: #fff;\n",
       "    text-align: center;\n",
       "    border-radius: 4px;\n",
       "    padding: 2px 0;\n",
       "    position: absolute;\n",
       "    z-index: 1;\n",
       "    font-size: 11px;\n",
       "}\n",
       "\n",
       ".tooltip:hover .tooltiptext {\n",
       "    visibility: visible;\n",
       "}\n",
       "\n",
       ".tooltip .tooltiptext::after {\n",
       "    content: \"\";\n",
       "    position: absolute;\n",
       "    top: 100%;\n",
       "    left: 50%;\n",
       "    margin-left: -8px;\n",
       "    border-width: 8px;\n",
       "    border-style: solid;\n",
       "    border-color: #fff transparent transparent transparent;\n",
       "}\n",
       "\n",
       ".tooltip-top {\n",
       "    bottom: 90%;\n",
       "    margin-left: -40px;\n",
       "}\n",
       "</style><h3>[k]array</h3><table><tr><th>Long object size</th><td>96 bytes</td></tr><tr><th>Data object type</th><td>dense</td></tr><tr><th>Data object size</th><td>32 bytes</td></tr><tr><th>Dimensions</th><td>['dim1', 'dim2']</td></tr><tr><th>Shape</th><td>[2, 2]</td></tr><tr><th>Capacity</th><td>4</td></tr><tr><th>Rows</th><td>4</td></tr></table><details><table><summary><div class=\"tooltip\"> Show unique coords</div></summary><tr><th>Dimension<th>Length<th>Type<th>Items<tr><th><b>dim1</b><td>2<td>object<td><details><summary><div class=\"tooltip\">show details</div></summary>[&#x27;a&#x27; &#x27;b&#x27;]</details><tr><th><b>dim2</b><td>2<td>int64<td><details><summary><div class=\"tooltip\">show details</div></summary>[1 2]</details></table></details><details><table><summary><div class=\"tooltip\"> Show data <small>[default: 16 rows, 2 decimals]</small><!-- <span class=\"tooltiptext tooltip-top\">To change default values:<br> obj.rows_display = Int val<br>obj.decimals_display = Int val<br>obj.oneshot_display = False --></span></div></summary><tr><th><th>dim1<th>dim2<th>value<tr><th><b>0</b><td>a<td>1<td>200.00<tr><th><b>1</b><td>a<td>2<td>200.00<tr><th><b>2</b><td>b<td>1<td>1200.00<tr><th><b>3</b><td>b<td>2<td>1200.00</table></details>"
      ],
      "text/plain": [
       "Array(data=array([[ 200.,  200.],\n",
       "       [1200., 1200.]]), coords={'dim1': array(['a', 'b'], dtype=object), 'dim2': array([1, 2])})"
      ]
     },
     "execution_count": 24,
     "metadata": {},
     "output_type": "execute_result"
    }
   ],
   "source": [
    "arr3.ufunc(dim='dim2', func=np.prod, keepdims=True)"
   ]
  },
  {
   "cell_type": "markdown",
   "metadata": {},
   "source": [
    "!!! WARNING\n",
    "\n",
    "    The dim argument is passed to ufunc as axis argument in numpy and keepdims argument is passed with the same name. You can add more arguments depending on the ufunc.\n"
   ]
  },
  {
   "cell_type": "markdown",
   "metadata": {},
   "source": [
    "### Saving and Loading Arrays\n",
    "\n",
    "karray supports saving and loading arrays using the Feather format:\n",
    "\n",
    "1. Saving an array to a Feather file:\n"
   ]
  },
  {
   "cell_type": "code",
   "execution_count": 25,
   "metadata": {},
   "outputs": [],
   "source": [
    "arr1.to_feather('array.feather')"
   ]
  },
  {
   "cell_type": "markdown",
   "metadata": {},
   "source": [
    "2. Loading an array from a Feather file:\n"
   ]
  },
  {
   "cell_type": "code",
   "execution_count": 26,
   "metadata": {},
   "outputs": [
    {
     "data": {
      "text/html": [
       "<style>\n",
       "\n",
       ".details {\n",
       "    user-select: none;\n",
       "}\n",
       "\n",
       ".details > summary {\n",
       "    display: flex;\n",
       "    cursor: pointer;\n",
       "    position: relative;\n",
       "}\n",
       "\n",
       ".details > summary .span.icon {\n",
       "    width: 24px;\n",
       "    height: 24px;\n",
       "    transition: all 0.3s;\n",
       "    margin-left: auto;\n",
       "}\n",
       "\n",
       ".details[open] > summary.summary ::-webkit-details-marker {\n",
       "    display: none;\n",
       "}\n",
       "\n",
       ".details[open] > summary .span.icon {\n",
       "    transform: rotate(180deg);\n",
       "}\n",
       "\n",
       "/* Tooltip styles */\n",
       ".tooltip {\n",
       "    position: relative;\n",
       "    display: inline-block;\n",
       "    border-bottom: 1px dotted black;\n",
       "}\n",
       "\n",
       ".tooltip .tooltiptext {\n",
       "    visibility: hidden;\n",
       "    width: 165px;\n",
       "    background-color: black;\n",
       "    color: #fff;\n",
       "    text-align: center;\n",
       "    border-radius: 4px;\n",
       "    padding: 2px 0;\n",
       "    position: absolute;\n",
       "    z-index: 1;\n",
       "    font-size: 11px;\n",
       "}\n",
       "\n",
       ".tooltip:hover .tooltiptext {\n",
       "    visibility: visible;\n",
       "}\n",
       "\n",
       ".tooltip .tooltiptext::after {\n",
       "    content: \"\";\n",
       "    position: absolute;\n",
       "    top: 100%;\n",
       "    left: 50%;\n",
       "    margin-left: -8px;\n",
       "    border-width: 8px;\n",
       "    border-style: solid;\n",
       "    border-color: #fff transparent transparent transparent;\n",
       "}\n",
       "\n",
       ".tooltip-top {\n",
       "    bottom: 90%;\n",
       "    margin-left: -40px;\n",
       "}\n",
       "</style><h3>[k]array</h3><table><tr><th>Long object size</th><td>64 bytes</td></tr><tr><th>Data object type</th><td>dense</td></tr><tr><th>Data object size</th><td>64 bytes</td></tr><tr><th>Dimensions</th><td>['dim1', 'dim2', 'dim3']</td></tr><tr><th>Shape</th><td>[2, 2, 2]</td></tr><tr><th>Capacity</th><td>8</td></tr><tr><th>Rows</th><td>2</td></tr></table><details><table><summary><div class=\"tooltip\"> Show unique coords</div></summary><tr><th>Dimension<th>Length<th>Type<th>Items<tr><th><b>dim1</b><td>2<td>object<td><details><summary><div class=\"tooltip\">show details</div></summary>[&#x27;a&#x27; &#x27;b&#x27;]</details><tr><th><b>dim2</b><td>2<td>int64<td><details><summary><div class=\"tooltip\">show details</div></summary>[1 2]</details><tr><th><b>dim3</b><td>2<td>int64<td><details><summary><div class=\"tooltip\">show details</div></summary>[1577836800000000000 1577923200000000000]</details></table></details><details><table><summary><div class=\"tooltip\"> Show data <small>[default: 16 rows, 2 decimals]</small><!-- <span class=\"tooltiptext tooltip-top\">To change default values:<br> obj.rows_display = Int val<br>obj.decimals_display = Int val<br>obj.oneshot_display = False --></span></div></summary><tr><th><th>dim1<th>dim2<th>dim3<th>value<tr><th><b>0</b><td>a<td>1<td>2020-01-01T00:00:00.000000000<td>10.00<tr><th><b>1</b><td>b<td>2<td>2020-01-02T00:00:00.000000000<td>20.00</table></details>"
      ],
      "text/plain": [
       "Array(data=array([[[10.,  0.],\n",
       "        [ 0.,  0.]],\n",
       "\n",
       "       [[ 0.,  0.],\n",
       "        [ 0., 20.]]]), coords={'dim1': array(['a', 'b'], dtype=object), 'dim2': array([1, 2]), 'dim3': array([1577836800000000000, 1577923200000000000])})"
      ]
     },
     "execution_count": 26,
     "metadata": {},
     "output_type": "execute_result"
    }
   ],
   "source": [
    "loaded_arr1 = ka.from_feather('array.feather')\n",
    "loaded_arr1"
   ]
  },
  {
   "cell_type": "markdown",
   "metadata": {},
   "source": [
    "### Interoperability with Other Libraries\n",
    "\n",
    "karray provides interoperability with other popular data manipulation libraries:\n",
    "\n",
    "1. Converting an array to a pandas DataFrame and then back to an array:\n"
   ]
  },
  {
   "cell_type": "code",
   "execution_count": 27,
   "metadata": {},
   "outputs": [
    {
     "data": {
      "text/html": [
       "<style>\n",
       "\n",
       ".details {\n",
       "    user-select: none;\n",
       "}\n",
       "\n",
       ".details > summary {\n",
       "    display: flex;\n",
       "    cursor: pointer;\n",
       "    position: relative;\n",
       "}\n",
       "\n",
       ".details > summary .span.icon {\n",
       "    width: 24px;\n",
       "    height: 24px;\n",
       "    transition: all 0.3s;\n",
       "    margin-left: auto;\n",
       "}\n",
       "\n",
       ".details[open] > summary.summary ::-webkit-details-marker {\n",
       "    display: none;\n",
       "}\n",
       "\n",
       ".details[open] > summary .span.icon {\n",
       "    transform: rotate(180deg);\n",
       "}\n",
       "\n",
       "/* Tooltip styles */\n",
       ".tooltip {\n",
       "    position: relative;\n",
       "    display: inline-block;\n",
       "    border-bottom: 1px dotted black;\n",
       "}\n",
       "\n",
       ".tooltip .tooltiptext {\n",
       "    visibility: hidden;\n",
       "    width: 165px;\n",
       "    background-color: black;\n",
       "    color: #fff;\n",
       "    text-align: center;\n",
       "    border-radius: 4px;\n",
       "    padding: 2px 0;\n",
       "    position: absolute;\n",
       "    z-index: 1;\n",
       "    font-size: 11px;\n",
       "}\n",
       "\n",
       ".tooltip:hover .tooltiptext {\n",
       "    visibility: visible;\n",
       "}\n",
       "\n",
       ".tooltip .tooltiptext::after {\n",
       "    content: \"\";\n",
       "    position: absolute;\n",
       "    top: 100%;\n",
       "    left: 50%;\n",
       "    margin-left: -8px;\n",
       "    border-width: 8px;\n",
       "    border-style: solid;\n",
       "    border-color: #fff transparent transparent transparent;\n",
       "}\n",
       "\n",
       ".tooltip-top {\n",
       "    bottom: 90%;\n",
       "    margin-left: -40px;\n",
       "}\n",
       "</style><h3>[k]array</h3><table><tr><th>Long object size</th><td>48 bytes</td></tr><tr><th>Data object type</th><td>dense</td></tr><tr><th>Data object size</th><td>32 bytes</td></tr><tr><th>Dimensions</th><td>['dim1', 'dim2']</td></tr><tr><th>Shape</th><td>[2, 2]</td></tr><tr><th>Capacity</th><td>4</td></tr><tr><th>Rows</th><td>2</td></tr></table><details><table><summary><div class=\"tooltip\"> Show unique coords</div></summary><tr><th>Dimension<th>Length<th>Type<th>Items<tr><th><b>dim1</b><td>2<td>object<td><details><summary><div class=\"tooltip\">show details</div></summary>[&#x27;a&#x27; &#x27;b&#x27;]</details><tr><th><b>dim2</b><td>2<td>int64<td><details><summary><div class=\"tooltip\">show details</div></summary>[1 2]</details></table></details><details><table><summary><div class=\"tooltip\"> Show data <small>[default: 16 rows, 2 decimals]</small><!-- <span class=\"tooltiptext tooltip-top\">To change default values:<br> obj.rows_display = Int val<br>obj.decimals_display = Int val<br>obj.oneshot_display = False --></span></div></summary><tr><th><th>dim1<th>dim2<th>value<tr><th><b>0</b><td>a<td>1<td>10<tr><th><b>1</b><td>b<td>2<td>20</table></details>"
      ],
      "text/plain": [
       "Array(data=array([[10,  0],\n",
       "       [ 0, 20]]), coords={'dim1': array(['a', 'b'], dtype=object), 'dim2': array([1, 2])})"
      ]
     },
     "execution_count": 27,
     "metadata": {},
     "output_type": "execute_result"
    }
   ],
   "source": [
    "df = arr2.to_pandas()\n",
    "new_arr = ka.from_pandas(df, coords=coords2)\n",
    "new_arr"
   ]
  },
  {
   "cell_type": "markdown",
   "metadata": {},
   "source": [
    "2. Converting an array to a polars DataFrame and then back to an array:\n"
   ]
  },
  {
   "cell_type": "code",
   "execution_count": 28,
   "metadata": {},
   "outputs": [
    {
     "data": {
      "text/html": [
       "<style>\n",
       "\n",
       ".details {\n",
       "    user-select: none;\n",
       "}\n",
       "\n",
       ".details > summary {\n",
       "    display: flex;\n",
       "    cursor: pointer;\n",
       "    position: relative;\n",
       "}\n",
       "\n",
       ".details > summary .span.icon {\n",
       "    width: 24px;\n",
       "    height: 24px;\n",
       "    transition: all 0.3s;\n",
       "    margin-left: auto;\n",
       "}\n",
       "\n",
       ".details[open] > summary.summary ::-webkit-details-marker {\n",
       "    display: none;\n",
       "}\n",
       "\n",
       ".details[open] > summary .span.icon {\n",
       "    transform: rotate(180deg);\n",
       "}\n",
       "\n",
       "/* Tooltip styles */\n",
       ".tooltip {\n",
       "    position: relative;\n",
       "    display: inline-block;\n",
       "    border-bottom: 1px dotted black;\n",
       "}\n",
       "\n",
       ".tooltip .tooltiptext {\n",
       "    visibility: hidden;\n",
       "    width: 165px;\n",
       "    background-color: black;\n",
       "    color: #fff;\n",
       "    text-align: center;\n",
       "    border-radius: 4px;\n",
       "    padding: 2px 0;\n",
       "    position: absolute;\n",
       "    z-index: 1;\n",
       "    font-size: 11px;\n",
       "}\n",
       "\n",
       ".tooltip:hover .tooltiptext {\n",
       "    visibility: visible;\n",
       "}\n",
       "\n",
       ".tooltip .tooltiptext::after {\n",
       "    content: \"\";\n",
       "    position: absolute;\n",
       "    top: 100%;\n",
       "    left: 50%;\n",
       "    margin-left: -8px;\n",
       "    border-width: 8px;\n",
       "    border-style: solid;\n",
       "    border-color: #fff transparent transparent transparent;\n",
       "}\n",
       "\n",
       ".tooltip-top {\n",
       "    bottom: 90%;\n",
       "    margin-left: -40px;\n",
       "}\n",
       "</style><h3>[k]array</h3><table><tr><th>Long object size</th><td>48 bytes</td></tr><tr><th>Data object type</th><td>dense</td></tr><tr><th>Data object size</th><td>32 bytes</td></tr><tr><th>Dimensions</th><td>['dim1', 'dim2']</td></tr><tr><th>Shape</th><td>[2, 2]</td></tr><tr><th>Capacity</th><td>4</td></tr><tr><th>Rows</th><td>2</td></tr></table><details><table><summary><div class=\"tooltip\"> Show unique coords</div></summary><tr><th>Dimension<th>Length<th>Type<th>Items<tr><th><b>dim1</b><td>2<td>object<td><details><summary><div class=\"tooltip\">show details</div></summary>[&#x27;a&#x27; &#x27;b&#x27;]</details><tr><th><b>dim2</b><td>2<td>int64<td><details><summary><div class=\"tooltip\">show details</div></summary>[1 2]</details></table></details><details><table><summary><div class=\"tooltip\"> Show data <small>[default: 16 rows, 2 decimals]</small><!-- <span class=\"tooltiptext tooltip-top\">To change default values:<br> obj.rows_display = Int val<br>obj.decimals_display = Int val<br>obj.oneshot_display = False --></span></div></summary><tr><th><th>dim1<th>dim2<th>value<tr><th><b>0</b><td>a<td>1<td>10<tr><th><b>1</b><td>b<td>2<td>20</table></details>"
      ],
      "text/plain": [
       "Array(data=array([[10,  0],\n",
       "       [ 0, 20]]), coords={'dim1': array(['a', 'b'], dtype=object), 'dim2': array([1, 2])})"
      ]
     },
     "execution_count": 28,
     "metadata": {},
     "output_type": "execute_result"
    }
   ],
   "source": [
    "df = arr2.to_polars()\n",
    "new_arr = ka.from_polars(df, coords=coords2)\n",
    "new_arr"
   ]
  },
  {
   "cell_type": "markdown",
   "metadata": {},
   "source": [
    "There are many more features and functionalities. Please refer to the source code section for more details.\n",
    "\n",
    "!!! Note\n",
    "\n",
    "    karray is a work in progress. The API is subject to change in the future. We are looking for feedback, suggestions, and we appreciate your contributions.\n"
   ]
  }
 ],
 "metadata": {
  "kernelspec": {
   "display_name": "arr10",
   "language": "python",
   "name": "python3"
  },
  "language_info": {
   "codemirror_mode": {
    "name": "ipython",
    "version": 3
   },
   "file_extension": ".py",
   "mimetype": "text/x-python",
   "name": "python",
   "nbconvert_exporter": "python",
   "pygments_lexer": "ipython3",
   "version": "3.10.14"
  }
 },
 "nbformat": 4,
 "nbformat_minor": 2
}
