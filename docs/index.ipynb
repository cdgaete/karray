{
 "cells": [
  {
   "cell_type": "markdown",
   "metadata": {},
   "source": [
    "# [k]array: labeled multi-dimensional arrays\n",
    "\n",
    "[![karray Status Badge](https://img.shields.io/pypi/v/karray.svg)](https://pypi.org/project/karray/)\n",
    "[![karray Python Versions](https://img.shields.io/pypi/pyversions/karray.svg)](https://pypi.org/project/karray/)\n",
    "[![karray license](https://img.shields.io/pypi/l/karray.svg)](https://pypi.org/project/karray/)\n",
    "[![Downloads](https://static.pepy.tech/badge/karray)](https://pepy.tech/project/karray)\n",
    "[![Pipeline](https://gitlab.com/diw-evu/karray/badges/main/pipeline.svg)](https://gitlab.com/diw-evu/karray/-/commits/main)\n",
    "\n",
    "Karray is a simple tool that intends to abstract the users from the complexity of working with labelled multi-dimensional arrays. Numpy is the tool’s core, with an extensive collection of high-level mathematical functions to operate on multi-dimensional arrays efficiently thanks to its well-optimized C code. With Karray, we put effort into generating lightweight objects expecting to reduce overheads and avoid large loops that cause bottlenecks and impact performance. Numpy is the only relevant dependency, while Polars, Pandas, sparse and Pyarrow are required to import, export and store the arrays. `karray` is developed by the research group `Transformation of the Energy Economy` at [DIW Berlin](https://www.diw.de/en/diw_01.c.604205.en/energy__transportation__environment_department.html) (German Institute of Economic Research).\n",
    "\n",
    "## Quick overview\n",
    "\n",
    "Karray has distinct features. In this overview, we will briefly describe two important ones. How to perform element-wise operations with arrays with mismatched coordinates and how we can represent multi-dimensional arrays in long format data for better visualization and analysis.\n",
    "\n",
    "### Operations with mismatched coordinates\n",
    "\n",
    "Karray is a Python library that provides powerful tools for working with multi-dimensional arrays, offering a unique advantage over other libraries when it comes to handling mismatched coordinates during element-wise operations.\n",
    "\n",
    "One of the standout features of Karray is its ability to perform element-wise operations on arrays with mismatched coordinates along a dimension. This is particularly useful when working with data that may have different sets of coordinates for the same dimension.\n",
    "\n",
    "Consider the following example:\n"
   ]
  },
  {
   "cell_type": "code",
   "execution_count": 1,
   "metadata": {},
   "outputs": [],
   "source": [
    "import pandas as pd\n",
    "import karray as ka"
   ]
  },
  {
   "cell_type": "code",
   "execution_count": 2,
   "metadata": {},
   "outputs": [
    {
     "data": {
      "text/html": [
       "<div>\n",
       "<style scoped>\n",
       "    .dataframe tbody tr th:only-of-type {\n",
       "        vertical-align: middle;\n",
       "    }\n",
       "\n",
       "    .dataframe tbody tr th {\n",
       "        vertical-align: top;\n",
       "    }\n",
       "\n",
       "    .dataframe thead th {\n",
       "        text-align: right;\n",
       "    }\n",
       "</style>\n",
       "<table border=\"1\" class=\"dataframe\">\n",
       "  <thead>\n",
       "    <tr style=\"text-align: right;\">\n",
       "      <th></th>\n",
       "      <th>origin</th>\n",
       "      <th>fruit</th>\n",
       "      <th>value</th>\n",
       "    </tr>\n",
       "  </thead>\n",
       "  <tbody>\n",
       "    <tr>\n",
       "      <th>0</th>\n",
       "      <td>Canada</td>\n",
       "      <td>apple</td>\n",
       "      <td>10.0</td>\n",
       "    </tr>\n",
       "    <tr>\n",
       "      <th>1</th>\n",
       "      <td>Canada</td>\n",
       "      <td>orange</td>\n",
       "      <td>20.0</td>\n",
       "    </tr>\n",
       "    <tr>\n",
       "      <th>2</th>\n",
       "      <td>Brazil</td>\n",
       "      <td>banana</td>\n",
       "      <td>300.0</td>\n",
       "    </tr>\n",
       "    <tr>\n",
       "      <th>3</th>\n",
       "      <td>Brazil</td>\n",
       "      <td>mango</td>\n",
       "      <td>400.0</td>\n",
       "    </tr>\n",
       "  </tbody>\n",
       "</table>\n",
       "</div>"
      ],
      "text/plain": [
       "   origin   fruit  value\n",
       "0  Canada   apple   10.0\n",
       "1  Canada  orange   20.0\n",
       "2  Brazil  banana  300.0\n",
       "3  Brazil   mango  400.0"
      ]
     },
     "execution_count": 2,
     "metadata": {},
     "output_type": "execute_result"
    }
   ],
   "source": [
    "stock_dict = {'origin': ['Canada', 'Canada', 'Brazil', 'Brazil'],\n",
    "              'fruit': ['apple', 'orange', 'banana', 'mango'],\n",
    "              'value': [10.0, 20.0, 300.0, 400.0]}\n",
    "\n",
    "stock_df = pd.DataFrame(stock_dict)\n",
    "stock_df"
   ]
  },
  {
   "cell_type": "code",
   "execution_count": 3,
   "metadata": {},
   "outputs": [],
   "source": [
    "# Create an array with mismatched coordinates\n",
    "stock = ka.from_pandas(stock_df)"
   ]
  },
  {
   "cell_type": "code",
   "execution_count": 4,
   "metadata": {},
   "outputs": [
    {
     "data": {
      "text/html": [
       "<div>\n",
       "<style scoped>\n",
       "    .dataframe tbody tr th:only-of-type {\n",
       "        vertical-align: middle;\n",
       "    }\n",
       "\n",
       "    .dataframe tbody tr th {\n",
       "        vertical-align: top;\n",
       "    }\n",
       "\n",
       "    .dataframe thead th {\n",
       "        text-align: right;\n",
       "    }\n",
       "</style>\n",
       "<table border=\"1\" class=\"dataframe\">\n",
       "  <thead>\n",
       "    <tr style=\"text-align: right;\">\n",
       "      <th></th>\n",
       "      <th>origin</th>\n",
       "      <th>fruit</th>\n",
       "      <th>value</th>\n",
       "    </tr>\n",
       "  </thead>\n",
       "  <tbody>\n",
       "    <tr>\n",
       "      <th>0</th>\n",
       "      <td>Canada</td>\n",
       "      <td>apple</td>\n",
       "      <td>0.1</td>\n",
       "    </tr>\n",
       "    <tr>\n",
       "      <th>1</th>\n",
       "      <td>Brazil</td>\n",
       "      <td>banana</td>\n",
       "      <td>0.2</td>\n",
       "    </tr>\n",
       "    <tr>\n",
       "      <th>2</th>\n",
       "      <td>Brazil</td>\n",
       "      <td>mango</td>\n",
       "      <td>0.3</td>\n",
       "    </tr>\n",
       "  </tbody>\n",
       "</table>\n",
       "</div>"
      ],
      "text/plain": [
       "   origin   fruit  value\n",
       "0  Canada   apple    0.1\n",
       "1  Brazil  banana    0.2\n",
       "2  Brazil   mango    0.3"
      ]
     },
     "execution_count": 4,
     "metadata": {},
     "output_type": "execute_result"
    }
   ],
   "source": [
    "price_dict = {'origin': ['Canada', 'Brazil', 'Brazil'],\n",
    "              'fruit': ['apple', 'banana', 'mango'],\n",
    "              'value': [0.1, 0.2, 0.3]}\n",
    "\n",
    "price_df = pd.DataFrame(price_dict)\n",
    "price_df"
   ]
  },
  {
   "cell_type": "code",
   "execution_count": 5,
   "metadata": {},
   "outputs": [],
   "source": [
    "price = ka.from_pandas(price_df)"
   ]
  },
  {
   "cell_type": "code",
   "execution_count": 6,
   "metadata": {},
   "outputs": [],
   "source": [
    "# Perform element-wise multiplication\n",
    "bill = stock * price"
   ]
  },
  {
   "cell_type": "markdown",
   "metadata": {},
   "source": [
    "In this example, `stock` and `price` arrays have mismatched coordinates along the 'fruit' dimension. The `stock` array includes 'orange', while the `price` array does not.\n",
    "\n",
    "With Karray, performing element-wise multiplication (`stock * price`) yields the following result:\n"
   ]
  },
  {
   "cell_type": "code",
   "execution_count": 7,
   "metadata": {},
   "outputs": [
    {
     "data": {
      "text/html": [
       "<style>\n",
       "\n",
       ".details {\n",
       "    user-select: none;\n",
       "}\n",
       "\n",
       ".details > summary {\n",
       "    display: flex;\n",
       "    cursor: pointer;\n",
       "    position: relative;\n",
       "}\n",
       "\n",
       ".details > summary .span.icon {\n",
       "    width: 24px;\n",
       "    height: 24px;\n",
       "    transition: all 0.3s;\n",
       "    margin-left: auto;\n",
       "}\n",
       "\n",
       ".details[open] > summary.summary ::-webkit-details-marker {\n",
       "    display: none;\n",
       "}\n",
       "\n",
       ".details[open] > summary .span.icon {\n",
       "    transform: rotate(180deg);\n",
       "}\n",
       "\n",
       "/* Tooltip styles */\n",
       ".tooltip {\n",
       "    position: relative;\n",
       "    display: inline-block;\n",
       "    border-bottom: 1px dotted black;\n",
       "}\n",
       "\n",
       ".tooltip .tooltiptext {\n",
       "    visibility: hidden;\n",
       "    width: 165px;\n",
       "    background-color: black;\n",
       "    color: #fff;\n",
       "    text-align: center;\n",
       "    border-radius: 4px;\n",
       "    padding: 2px 0;\n",
       "    position: absolute;\n",
       "    z-index: 1;\n",
       "    font-size: 11px;\n",
       "}\n",
       "\n",
       ".tooltip:hover .tooltiptext {\n",
       "    visibility: visible;\n",
       "}\n",
       "\n",
       ".tooltip .tooltiptext::after {\n",
       "    content: \"\";\n",
       "    position: absolute;\n",
       "    top: 100%;\n",
       "    left: 50%;\n",
       "    margin-left: -8px;\n",
       "    border-width: 8px;\n",
       "    border-style: solid;\n",
       "    border-color: #fff transparent transparent transparent;\n",
       "}\n",
       "\n",
       ".tooltip-top {\n",
       "    bottom: 90%;\n",
       "    margin-left: -40px;\n",
       "}\n",
       "</style><h3>[k]array</h3><table><tr><th>Long object size</th><td>72 bytes</td></tr><tr><th>Data object type</th><td>dense</td></tr><tr><th>Data object size</th><td>64 bytes</td></tr><tr><th>Dimensions</th><td>['origin', 'fruit']</td></tr><tr><th>Shape</th><td>[2, 4]</td></tr><tr><th>Capacity</th><td>8</td></tr><tr><th>Rows</th><td>3</td></tr></table><details><table><summary><div class=\"tooltip\"> Show unique coords</div></summary><tr><th>Dimension<th>Length<th>Type<th>Items<tr><th><b>origin</b><td>2<td>object<td><details><summary><div class=\"tooltip\">show details</div></summary>[&#x27;Brazil&#x27; &#x27;Canada&#x27;]</details><tr><th><b>fruit</b><td>4<td>object<td><details><summary><div class=\"tooltip\">show details</div></summary>[&#x27;apple&#x27; &#x27;banana&#x27; &#x27;mango&#x27; &#x27;orange&#x27;]</details></table></details><details><table><summary><div class=\"tooltip\"> Show data <small>[default: 16 rows, 2 decimals]</small><!-- <span class=\"tooltiptext tooltip-top\">To change default values:<br> obj.rows_display = Int val<br>obj.decimals_display = Int val<br>obj.oneshot_display = False --></span></div></summary><tr><th><th>origin<th>fruit<th>value<tr><th><b>0</b><td>Brazil<td>banana<td>60.00<tr><th><b>1</b><td>Brazil<td>mango<td>120.00<tr><th><b>2</b><td>Canada<td>apple<td>1.00</table></details>"
      ],
      "text/plain": [
       "Array(data=array([[  0.,  60., 120.,   0.],\n",
       "       [  1.,   0.,   0.,   0.]]), coords={'origin': array(['Brazil', 'Canada'], dtype=object), 'fruit': array(['apple', 'banana', 'mango', 'orange'], dtype=object)})"
      ]
     },
     "execution_count": 7,
     "metadata": {},
     "output_type": "execute_result"
    }
   ],
   "source": [
    "bill"
   ]
  },
  {
   "cell_type": "code",
   "execution_count": 8,
   "metadata": {},
   "outputs": [
    {
     "data": {
      "text/html": [
       "<div>\n",
       "<style scoped>\n",
       "    .dataframe tbody tr th:only-of-type {\n",
       "        vertical-align: middle;\n",
       "    }\n",
       "\n",
       "    .dataframe tbody tr th {\n",
       "        vertical-align: top;\n",
       "    }\n",
       "\n",
       "    .dataframe thead th {\n",
       "        text-align: right;\n",
       "    }\n",
       "</style>\n",
       "<table border=\"1\" class=\"dataframe\">\n",
       "  <thead>\n",
       "    <tr style=\"text-align: right;\">\n",
       "      <th></th>\n",
       "      <th>origin</th>\n",
       "      <th>fruit</th>\n",
       "      <th>value</th>\n",
       "    </tr>\n",
       "  </thead>\n",
       "  <tbody>\n",
       "    <tr>\n",
       "      <th>0</th>\n",
       "      <td>Brazil</td>\n",
       "      <td>apple</td>\n",
       "      <td>0.0</td>\n",
       "    </tr>\n",
       "    <tr>\n",
       "      <th>1</th>\n",
       "      <td>Brazil</td>\n",
       "      <td>banana</td>\n",
       "      <td>60.0</td>\n",
       "    </tr>\n",
       "    <tr>\n",
       "      <th>2</th>\n",
       "      <td>Brazil</td>\n",
       "      <td>mango</td>\n",
       "      <td>120.0</td>\n",
       "    </tr>\n",
       "    <tr>\n",
       "      <th>3</th>\n",
       "      <td>Brazil</td>\n",
       "      <td>orange</td>\n",
       "      <td>0.0</td>\n",
       "    </tr>\n",
       "    <tr>\n",
       "      <th>4</th>\n",
       "      <td>Canada</td>\n",
       "      <td>apple</td>\n",
       "      <td>1.0</td>\n",
       "    </tr>\n",
       "    <tr>\n",
       "      <th>5</th>\n",
       "      <td>Canada</td>\n",
       "      <td>banana</td>\n",
       "      <td>0.0</td>\n",
       "    </tr>\n",
       "    <tr>\n",
       "      <th>6</th>\n",
       "      <td>Canada</td>\n",
       "      <td>mango</td>\n",
       "      <td>0.0</td>\n",
       "    </tr>\n",
       "    <tr>\n",
       "      <th>7</th>\n",
       "      <td>Canada</td>\n",
       "      <td>orange</td>\n",
       "      <td>0.0</td>\n",
       "    </tr>\n",
       "  </tbody>\n",
       "</table>\n",
       "</div>"
      ],
      "text/plain": [
       "   origin   fruit  value\n",
       "0  Brazil   apple    0.0\n",
       "1  Brazil  banana   60.0\n",
       "2  Brazil   mango  120.0\n",
       "3  Brazil  orange    0.0\n",
       "4  Canada   apple    1.0\n",
       "5  Canada  banana    0.0\n",
       "6  Canada   mango    0.0\n",
       "7  Canada  orange    0.0"
      ]
     },
     "execution_count": 8,
     "metadata": {},
     "output_type": "execute_result"
    }
   ],
   "source": [
    "bill.to_pandas(dense=True)"
   ]
  },
  {
   "cell_type": "markdown",
   "metadata": {},
   "source": [
    "Karray aligns the arrays based on the matching coordinates and performs the multiplication only for those elements. The mismatched coordinates are ignored, and the resulting array `bill` contains the correctly computed values.\n",
    "\n",
    "In contrast, other libraries like Xarray would produce an array with removed the mismatched coordinates, requiring additional data manipulation to align the coordinates before performing the operation.\n",
    "\n",
    "Below is an example with Xarray:\n"
   ]
  },
  {
   "cell_type": "code",
   "execution_count": 9,
   "metadata": {},
   "outputs": [],
   "source": [
    "import xarray as xr\n",
    "\n",
    "stockxr = xr.DataArray(data=stock.dense, coords=stock.coords)\n",
    "pricexr = xr.DataArray(data=price.dense, coords=price.coords)\n",
    "\n",
    "billxr = stockxr * pricexr"
   ]
  },
  {
   "cell_type": "code",
   "execution_count": 10,
   "metadata": {},
   "outputs": [
    {
     "data": {
      "text/html": [
       "<div>\n",
       "<style scoped>\n",
       "    .dataframe tbody tr th:only-of-type {\n",
       "        vertical-align: middle;\n",
       "    }\n",
       "\n",
       "    .dataframe tbody tr th {\n",
       "        vertical-align: top;\n",
       "    }\n",
       "\n",
       "    .dataframe thead th {\n",
       "        text-align: right;\n",
       "    }\n",
       "</style>\n",
       "<table border=\"1\" class=\"dataframe\">\n",
       "  <thead>\n",
       "    <tr style=\"text-align: right;\">\n",
       "      <th></th>\n",
       "      <th>origin</th>\n",
       "      <th>fruit</th>\n",
       "      <th>value</th>\n",
       "    </tr>\n",
       "  </thead>\n",
       "  <tbody>\n",
       "    <tr>\n",
       "      <th>0</th>\n",
       "      <td>Brazil</td>\n",
       "      <td>apple</td>\n",
       "      <td>0.0</td>\n",
       "    </tr>\n",
       "    <tr>\n",
       "      <th>1</th>\n",
       "      <td>Brazil</td>\n",
       "      <td>banana</td>\n",
       "      <td>60.0</td>\n",
       "    </tr>\n",
       "    <tr>\n",
       "      <th>2</th>\n",
       "      <td>Brazil</td>\n",
       "      <td>mango</td>\n",
       "      <td>120.0</td>\n",
       "    </tr>\n",
       "    <tr>\n",
       "      <th>3</th>\n",
       "      <td>Canada</td>\n",
       "      <td>apple</td>\n",
       "      <td>1.0</td>\n",
       "    </tr>\n",
       "    <tr>\n",
       "      <th>4</th>\n",
       "      <td>Canada</td>\n",
       "      <td>banana</td>\n",
       "      <td>0.0</td>\n",
       "    </tr>\n",
       "    <tr>\n",
       "      <th>5</th>\n",
       "      <td>Canada</td>\n",
       "      <td>mango</td>\n",
       "      <td>0.0</td>\n",
       "    </tr>\n",
       "  </tbody>\n",
       "</table>\n",
       "</div>"
      ],
      "text/plain": [
       "   origin   fruit  value\n",
       "0  Brazil   apple    0.0\n",
       "1  Brazil  banana   60.0\n",
       "2  Brazil   mango  120.0\n",
       "3  Canada   apple    1.0\n",
       "4  Canada  banana    0.0\n",
       "5  Canada   mango    0.0"
      ]
     },
     "execution_count": 10,
     "metadata": {},
     "output_type": "execute_result"
    }
   ],
   "source": [
    "# Using karray to visualize xarray billxr object\n",
    "ka.Array(data=billxr.data, coords={\n",
    "         dim: uniques.values for dim, uniques in billxr.coords.items()}).to_pandas(dense=True)"
   ]
  },
  {
   "cell_type": "markdown",
   "metadata": {},
   "source": [
    "Alike with karray, 'orange' disappears from the `billxr` object. The image below ilustrates the difference between Karray and Xarray.\n"
   ]
  },
  {
   "cell_type": "code",
   "execution_count": 11,
   "metadata": {},
   "outputs": [
    {
     "data": {
      "image/png": "[encoded data removed]",
      "text/plain": [
       "<IPython.core.display.Image object>"
      ]
     },
     "execution_count": 11,
     "metadata": {
      "image/png": {
       "width": 500
      }
     },
     "output_type": "execute_result"
    }
   ],
   "source": [
    "from IPython.display import Image\n",
    "Image(filename='images/karray_xarray.png', width=500)"
   ]
  },
  {
   "cell_type": "markdown",
   "metadata": {},
   "source": [
    "**Here's another example that demonstrates the flexibility of Karray:**\n"
   ]
  },
  {
   "cell_type": "code",
   "execution_count": 12,
   "metadata": {},
   "outputs": [
    {
     "data": {
      "text/html": [
       "<div>\n",
       "<style scoped>\n",
       "    .dataframe tbody tr th:only-of-type {\n",
       "        vertical-align: middle;\n",
       "    }\n",
       "\n",
       "    .dataframe tbody tr th {\n",
       "        vertical-align: top;\n",
       "    }\n",
       "\n",
       "    .dataframe thead th {\n",
       "        text-align: right;\n",
       "    }\n",
       "</style>\n",
       "<table border=\"1\" class=\"dataframe\">\n",
       "  <thead>\n",
       "    <tr style=\"text-align: right;\">\n",
       "      <th></th>\n",
       "      <th>origin</th>\n",
       "      <th>fruit</th>\n",
       "      <th>value</th>\n",
       "    </tr>\n",
       "  </thead>\n",
       "  <tbody>\n",
       "    <tr>\n",
       "      <th>0</th>\n",
       "      <td>Brazil</td>\n",
       "      <td>apple</td>\n",
       "      <td>300.0</td>\n",
       "    </tr>\n",
       "    <tr>\n",
       "      <th>1</th>\n",
       "      <td>Brazil</td>\n",
       "      <td>orange</td>\n",
       "      <td>400.0</td>\n",
       "    </tr>\n",
       "    <tr>\n",
       "      <th>2</th>\n",
       "      <td>Canada</td>\n",
       "      <td>apple</td>\n",
       "      <td>10.0</td>\n",
       "    </tr>\n",
       "    <tr>\n",
       "      <th>3</th>\n",
       "      <td>Canada</td>\n",
       "      <td>orange</td>\n",
       "      <td>20.0</td>\n",
       "    </tr>\n",
       "  </tbody>\n",
       "</table>\n",
       "</div>"
      ],
      "text/plain": [
       "   origin   fruit  value\n",
       "0  Brazil   apple  300.0\n",
       "1  Brazil  orange  400.0\n",
       "2  Canada   apple   10.0\n",
       "3  Canada  orange   20.0"
      ]
     },
     "execution_count": 12,
     "metadata": {},
     "output_type": "execute_result"
    }
   ],
   "source": [
    "stock_dict = {'origin': ['Canada', 'Canada', 'Brazil', 'Brazil'],\n",
    "              'fruit': ['apple', 'orange', 'apple', 'orange'],\n",
    "              'value': [10.0, 20.0, 300.0, 400.0]}\n",
    "stock_df = pd.DataFrame(stock_dict)\n",
    "stock = ka.from_pandas(stock_df)\n",
    "stock.to_pandas(dense=True)"
   ]
  },
  {
   "cell_type": "code",
   "execution_count": 13,
   "metadata": {},
   "outputs": [
    {
     "data": {
      "text/html": [
       "<div>\n",
       "<style scoped>\n",
       "    .dataframe tbody tr th:only-of-type {\n",
       "        vertical-align: middle;\n",
       "    }\n",
       "\n",
       "    .dataframe tbody tr th {\n",
       "        vertical-align: top;\n",
       "    }\n",
       "\n",
       "    .dataframe thead th {\n",
       "        text-align: right;\n",
       "    }\n",
       "</style>\n",
       "<table border=\"1\" class=\"dataframe\">\n",
       "  <thead>\n",
       "    <tr style=\"text-align: right;\">\n",
       "      <th></th>\n",
       "      <th>origin</th>\n",
       "      <th>fruit</th>\n",
       "      <th>value</th>\n",
       "    </tr>\n",
       "  </thead>\n",
       "  <tbody>\n",
       "    <tr>\n",
       "      <th>0</th>\n",
       "      <td>Brazil</td>\n",
       "      <td>banana</td>\n",
       "      <td>0.4</td>\n",
       "    </tr>\n",
       "    <tr>\n",
       "      <th>1</th>\n",
       "      <td>Brazil</td>\n",
       "      <td>mango</td>\n",
       "      <td>0.3</td>\n",
       "    </tr>\n",
       "    <tr>\n",
       "      <th>2</th>\n",
       "      <td>Canada</td>\n",
       "      <td>banana</td>\n",
       "      <td>0.2</td>\n",
       "    </tr>\n",
       "    <tr>\n",
       "      <th>3</th>\n",
       "      <td>Canada</td>\n",
       "      <td>mango</td>\n",
       "      <td>0.1</td>\n",
       "    </tr>\n",
       "  </tbody>\n",
       "</table>\n",
       "</div>"
      ],
      "text/plain": [
       "   origin   fruit  value\n",
       "0  Brazil  banana    0.4\n",
       "1  Brazil   mango    0.3\n",
       "2  Canada  banana    0.2\n",
       "3  Canada   mango    0.1"
      ]
     },
     "execution_count": 13,
     "metadata": {},
     "output_type": "execute_result"
    }
   ],
   "source": [
    "price_dict = {'origin': ['Canada', 'Canada', 'Brazil', 'Brazil'],\n",
    "              'fruit': ['mango', 'banana', 'mango', 'banana'],\n",
    "              'value': [0.1, 0.2, 0.3, 0.4]}\n",
    "price_df = pd.DataFrame(price_dict)\n",
    "price = ka.from_pandas(price_df)\n",
    "price.to_pandas(dense=True)"
   ]
  },
  {
   "cell_type": "code",
   "execution_count": 14,
   "metadata": {},
   "outputs": [],
   "source": [
    "# Perform element-wise multiplication\n",
    "bill = stock * price"
   ]
  },
  {
   "cell_type": "markdown",
   "metadata": {},
   "source": [
    "In this case, `stock` and `price` arrays have mismatched coordinates along the 'fruit' dimension. The `stock` array includes 'apple' and 'orange', while the `price` array does not, instead includes 'mango' and 'banana'.\n",
    "\n",
    "Karray handles this situation gracefully and produces the following result:\n"
   ]
  },
  {
   "cell_type": "code",
   "execution_count": 15,
   "metadata": {},
   "outputs": [
    {
     "data": {
      "text/html": [
       "<div>\n",
       "<style scoped>\n",
       "    .dataframe tbody tr th:only-of-type {\n",
       "        vertical-align: middle;\n",
       "    }\n",
       "\n",
       "    .dataframe tbody tr th {\n",
       "        vertical-align: top;\n",
       "    }\n",
       "\n",
       "    .dataframe thead th {\n",
       "        text-align: right;\n",
       "    }\n",
       "</style>\n",
       "<table border=\"1\" class=\"dataframe\">\n",
       "  <thead>\n",
       "    <tr style=\"text-align: right;\">\n",
       "      <th></th>\n",
       "      <th>origin</th>\n",
       "      <th>fruit</th>\n",
       "      <th>value</th>\n",
       "    </tr>\n",
       "  </thead>\n",
       "  <tbody>\n",
       "    <tr>\n",
       "      <th>0</th>\n",
       "      <td>Brazil</td>\n",
       "      <td>apple</td>\n",
       "      <td>0.0</td>\n",
       "    </tr>\n",
       "    <tr>\n",
       "      <th>1</th>\n",
       "      <td>Brazil</td>\n",
       "      <td>banana</td>\n",
       "      <td>0.0</td>\n",
       "    </tr>\n",
       "    <tr>\n",
       "      <th>2</th>\n",
       "      <td>Brazil</td>\n",
       "      <td>mango</td>\n",
       "      <td>0.0</td>\n",
       "    </tr>\n",
       "    <tr>\n",
       "      <th>3</th>\n",
       "      <td>Brazil</td>\n",
       "      <td>orange</td>\n",
       "      <td>0.0</td>\n",
       "    </tr>\n",
       "    <tr>\n",
       "      <th>4</th>\n",
       "      <td>Canada</td>\n",
       "      <td>apple</td>\n",
       "      <td>0.0</td>\n",
       "    </tr>\n",
       "    <tr>\n",
       "      <th>5</th>\n",
       "      <td>Canada</td>\n",
       "      <td>banana</td>\n",
       "      <td>0.0</td>\n",
       "    </tr>\n",
       "    <tr>\n",
       "      <th>6</th>\n",
       "      <td>Canada</td>\n",
       "      <td>mango</td>\n",
       "      <td>0.0</td>\n",
       "    </tr>\n",
       "    <tr>\n",
       "      <th>7</th>\n",
       "      <td>Canada</td>\n",
       "      <td>orange</td>\n",
       "      <td>0.0</td>\n",
       "    </tr>\n",
       "  </tbody>\n",
       "</table>\n",
       "</div>"
      ],
      "text/plain": [
       "   origin   fruit  value\n",
       "0  Brazil   apple    0.0\n",
       "1  Brazil  banana    0.0\n",
       "2  Brazil   mango    0.0\n",
       "3  Brazil  orange    0.0\n",
       "4  Canada   apple    0.0\n",
       "5  Canada  banana    0.0\n",
       "6  Canada   mango    0.0\n",
       "7  Canada  orange    0.0"
      ]
     },
     "execution_count": 15,
     "metadata": {},
     "output_type": "execute_result"
    }
   ],
   "source": [
    "bill.to_pandas(dense=True)"
   ]
  },
  {
   "cell_type": "markdown",
   "metadata": {},
   "source": [
    "The element-wise multiplication is performed only for the matching coordinates, and the mismatched coordinates are ignored. In this case, as there is no matching coordinates, the result is an zeros array, while keeping the union of the 'fruit' coordinates.\n"
   ]
  },
  {
   "cell_type": "markdown",
   "metadata": {},
   "source": [
    "Quickly we test with xarray:\n"
   ]
  },
  {
   "cell_type": "code",
   "execution_count": 16,
   "metadata": {},
   "outputs": [
    {
     "data": {
      "text/html": [
       "<div>\n",
       "<style scoped>\n",
       "    .dataframe tbody tr th:only-of-type {\n",
       "        vertical-align: middle;\n",
       "    }\n",
       "\n",
       "    .dataframe tbody tr th {\n",
       "        vertical-align: top;\n",
       "    }\n",
       "\n",
       "    .dataframe thead th {\n",
       "        text-align: right;\n",
       "    }\n",
       "</style>\n",
       "<table border=\"1\" class=\"dataframe\">\n",
       "  <thead>\n",
       "    <tr style=\"text-align: right;\">\n",
       "      <th></th>\n",
       "      <th>origin</th>\n",
       "      <th>fruit</th>\n",
       "      <th>value</th>\n",
       "    </tr>\n",
       "  </thead>\n",
       "  <tbody>\n",
       "  </tbody>\n",
       "</table>\n",
       "</div>"
      ],
      "text/plain": [
       "Empty DataFrame\n",
       "Columns: [origin, fruit, value]\n",
       "Index: []"
      ]
     },
     "execution_count": 16,
     "metadata": {},
     "output_type": "execute_result"
    }
   ],
   "source": [
    "stockxr = xr.DataArray(data=stock.dense, coords=stock.coords)\n",
    "pricexr = xr.DataArray(data=price.dense, coords=price.coords)\n",
    "\n",
    "billxr = stockxr * pricexr\n",
    "\n",
    "# Using karray to visualize xarray billxr object\n",
    "ka.Array(data=billxr.data, coords={\n",
    "         dim: uniques.values for dim, uniques in billxr.coords.items()}).to_pandas(dense=True)"
   ]
  },
  {
   "cell_type": "markdown",
   "metadata": {},
   "source": [
    "xarray produces an empty array because there are no matching coordinates. If you want to perform a new operation, it will fail while karray can handle it.\n"
   ]
  },
  {
   "cell_type": "code",
   "execution_count": 17,
   "metadata": {},
   "outputs": [
    {
     "data": {
      "image/png": "[encoded data removed]",
      "text/plain": [
       "<IPython.core.display.Image object>"
      ]
     },
     "execution_count": 17,
     "metadata": {
      "image/png": {
       "width": 500
      }
     },
     "output_type": "execute_result"
    }
   ],
   "source": [
    "Image(filename='images/empty1.png', width=500)"
   ]
  },
  {
   "cell_type": "markdown",
   "metadata": {},
   "source": [
    "Karray seems to align the arrays based on the matching coordinates and performs the operation only for those elements, ignoring the mismatched coordinates. This behavior is more intuitive and convenient when working with arrays that may have different sets of coordinates along a dimension.\n",
    "\n",
    "The disadvantage of Xarray in this regard is that it requires strict matching of coordinates for element-wise operations, which can lead to unexpected results or the need for additional data manipulation to align the coordinates before performing the desired operation.\n",
    "\n",
    "Karray's ability to handle mismatched coordinates gracefully and perform operations based on the matching coordinates is a significant advantage, providing more flexibility and ease of use in scenarios where the arrays may have different sets of coordinates.\n"
   ]
  },
  {
   "cell_type": "markdown",
   "metadata": {},
   "source": [
    "### Dataframe long format\n",
    "\n",
    "karray allows you to work with multi-dimensional arrays in long format data using DataFrames. This feature is particularly useful when working with more than two dimensions, as our brain is more familiar with tabular data.\n",
    "\n",
    "#### Reserved keyword\n",
    "\n",
    "There is one reserved keyword that is not permitted to be used as a dimension name in long format data: `'value'`. The reserved keyword `'value'` is used to represent the values of the array.\n",
    "\n",
    "#### Building a dataFrame for karray\n",
    "\n",
    "To build a DataFrame to be used in karray, you need to follow these steps:\n",
    "\n",
    "1. Use the header of the DataFrame as the dimension names.\n",
    "2. Include a `'value'` column to represent the values of the array.\n",
    "3. Ensure that the combination of coordinates at every row of the DataFrame is unique.\n",
    "\n",
    "If you provide a DataFrame without the `'value'` column or if the combination of coordinates is not unique, an error will be raised when you attempt to convert it to an array.\n",
    "\n",
    "#### Examples\n",
    "\n",
    "Here are a few examples to illustrate how to create a DataFrame suitable for karray:\n",
    "\n",
    "##### Example 1: Simple 2D Array\n",
    "\n",
    "```python\n",
    "import pandas as pd\n",
    "import karray as ka\n",
    "\n",
    "data = {\n",
    "    'dim1': ['a', 'a', 'b', 'b'],\n",
    "    'dim2': [1, 2, 1, 2],\n",
    "    'value': [10, 20, 30, 40]\n",
    "}\n",
    "\n",
    "df = pd.DataFrame(data)\n",
    "arr = ka.from_pandas(df)\n",
    "```\n",
    "\n",
    "In this example, we create a DataFrame `df` with dimensions `'dim1'` and `'dim2'`, and a `'value'` column representing the values of the array. Each row in the DataFrame represents a unique combination of coordinates.\n",
    "\n",
    "##### Example 2: 3D Array\n",
    "\n",
    "```python\n",
    "import pandas as pd\n",
    "import karray as ka\n",
    "\n",
    "data = {\n",
    "    'dim1': ['a', 'a', 'a', 'a', 'b', 'b', 'b', 'b'],\n",
    "    'dim2': [1, 1, 2, 2, 1, 1, 2, 2],\n",
    "    'dim3': ['x', 'y', 'x', 'y', 'x', 'y', 'x', 'y'],\n",
    "    'value': [10, 20, 30, 40, 50, 60, 70, 80]\n",
    "}\n",
    "\n",
    "df = pd.DataFrame(data)\n",
    "arr = ka.from_pandas(df)\n",
    "```\n",
    "\n",
    "In this example, we create a DataFrame `df` with three dimensions: `'dim1'`, `'dim2'`, and `'dim3'`. The `'value'` column represents the values of the array. Each row in the DataFrame represents a unique combination of coordinates in the 3D array.\n",
    "\n",
    "##### Example 3: Missing Value Column\n",
    "\n",
    "```python\n",
    "import pandas as pd\n",
    "import karray as ka\n",
    "\n",
    "data = {\n",
    "    'dim1': ['a', 'a', 'b', 'b'],\n",
    "    'dim2': [1, 2, 1, 2]\n",
    "}\n",
    "\n",
    "df = pd.DataFrame(data)\n",
    "arr = ka.from_pandas(df)  # Raises an error\n",
    "```\n",
    "\n",
    "In this example, the DataFrame `df` is missing the `'value'` column. When we attempt to create an array using this DataFrame, an error will be raised because the `'value'` column is required.\n",
    "\n",
    "##### Example 4: Non-Unique Coordinates\n",
    "\n",
    "```python\n",
    "import pandas as pd\n",
    "import karray as ka\n",
    "\n",
    "data = {\n",
    "    'dim1': ['a', 'a', 'b', 'b'],\n",
    "    'dim2': [1, 1, 2, 2],\n",
    "    'value': [10, 20, 30, 40]\n",
    "}\n",
    "\n",
    "df = pd.DataFrame(data)\n",
    "arr = ka.from_pandas(df)  # Raises an error\n",
    "```\n",
    "\n",
    "In this example, the DataFrame `df` contains non-unique combinations of coordinates. The rows with `'dim1'` as `'a'` and `'dim2'` as `1` appear twice. When we attempt to create an array using this DataFrame, an error will be raised because the combination of coordinates must be unique.\n"
   ]
  },
  {
   "cell_type": "markdown",
   "metadata": {},
   "source": [
    "### Advantages of karray\n",
    "\n",
    "1. **Flexibility**: Karray allows you to work with arrays that have different sets of coordinates along a dimension, providing flexibility in data representation and analysis.\n",
    "\n",
    "2. **Intuitive Operations**: Element-wise operations in Karray are performed based on matching coordinates, making the results more intuitive and aligned with expectations.\n",
    "\n",
    "3. **Efficiency**: Karray's ability to handle mismatched coordinates gracefully eliminates the need for additional data manipulation steps, leading to more efficient and streamlined code.\n",
    "\n",
    "4. **Convenience**: karray provides a convenient way to work with multi-dimensional arrays using long format data in DataFrames. By following the guidelines of using dimension names as headers, including a `'value'` column, and ensuring unique combinations of coordinates, you can easily create arrays from DataFrames and perform various operations on them.\n"
   ]
  }
 ],
 "metadata": {
  "kernelspec": {
   "display_name": "tuto",
   "language": "python",
   "name": "python3"
  },
  "language_info": {
   "codemirror_mode": {
    "name": "ipython",
    "version": 3
   },
   "file_extension": ".py",
   "mimetype": "text/x-python",
   "name": "python",
   "nbconvert_exporter": "python",
   "pygments_lexer": "ipython3",
   "version": "3.10.14"
  },
  "orig_nbformat": 4
 },
 "nbformat": 4,
 "nbformat_minor": 2
}
